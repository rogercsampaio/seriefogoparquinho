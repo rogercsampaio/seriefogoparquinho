{
  "cells": [
    {
      "cell_type": "markdown",
      "source": [
        "<img src=\"imagens/logo-RS-01.png\"  width=\"500\" height=\"600\" align = \"center\">"
      ],
      "metadata": {
        "nteract": {
          "transient": {
            "deleting": false
          }
        }
      }
    },
    {
      "cell_type": "markdown",
      "source": [
        "<h2> Tratando Variáveis Qualitativas </h2> </br>\n",
        "Base de dados contém informações sobre os campeonatos brasileiros de 2003 a 2022. Este dataset é sobre cartões, contemplando: quem recebeu o cartão, tipo (amarelho ou vermelho), quando (minuto),  nome do atletla entre outras informações.\n",
        "Referência:\n",
        "https://www.kaggle.com/datasets/adaoduque/campeonato-brasileiro-de-futebol?resource=download&select=campeonato-brasileiro-cartoes.csv"
      ],
      "metadata": {
        "id": "BHrCocbmrL1x"
      }
    },
    {
      "cell_type": "markdown",
      "source": [
        "<img src=\"imagens/variaveis.PNG\"  width=\"700\" height=\"700\" align = \"center\">"
      ],
      "metadata": {
        "nteract": {
          "transient": {
            "deleting": false
          }
        }
      }
    },
    {
      "cell_type": "markdown",
      "source": [
        "Variável Quantitativa é resultado de uma contagem ou mensuração.\n",
        "Variável Qualitativa(Categórica) é um tipo que variável que expressa categoria, classificação de algo. Os valores não podem ser espressados em quantidades. Há dois tipos: nominais e ordinais. Ordinais há ordenação entre as categorias, enquanto as nominais não. Exemplo de ordinais: nível de escolaridade, meses do ano. Exemplo de nominais: cor de olhos. </br>\n",
        "Obserção: as variáveis qualitativas podem ser representados por strings, inteiros, valores reais, entre outros, cabendo sempre a observação do cientista para identificá-la. </br>\n",
        "**Exemplos de Técnicas Encoders**: </br>\n",
        "\n",
        "1 - Ordinal. Tipo Clássico. </br>\n",
        "2 - One Hot. Tipo Clássico. </br>\n",
        "Os classicos oferem uma representação numérica da categoria."
      ],
      "metadata": {
        "nteract": {
          "transient": {
            "deleting": false
          }
        }
      }
    },
    {
      "cell_type": "markdown",
      "source": [
        "Importação de Pacotes Python"
      ],
      "metadata": {
        "id": "KsqO7zpHqjaU"
      }
    },
    {
      "cell_type": "code",
      "source": [
        "import pandas as pd\n",
        "import matplotlib.pyplot as plt\n",
        "from sklearn.preprocessing import OrdinalEncoder,OneHotEncoder\n",
        "import seaborn as sns"
      ],
      "outputs": [],
      "execution_count": 1,
      "metadata": {
        "gather": {
          "logged": 1687637283555
        },
        "id": "4fG9pQpBqobZ"
      }
    },
    {
      "cell_type": "markdown",
      "source": [
        "<h3> Análise Exploratória de Dados (EDA) </h3>"
      ],
      "metadata": {
        "id": "43E-KXtcqeSG"
      }
    },
    {
      "cell_type": "code",
      "source": [
        "# Obtendo os dados\n",
        "campeonate_cartoes = pd.read_csv(\"bases/campeonato-brasileiro-cartoes.csv\")"
      ],
      "outputs": [],
      "execution_count": 26,
      "metadata": {
        "colab": {
          "base_uri": "https://localhost:8080/"
        },
        "gather": {
          "logged": 1687637549202
        },
        "id": "IR4l_FZaqhy9",
        "outputId": "a0a9125b-ca9a-4c34-a7c9-9d0f0420e670"
      }
    },
    {
      "cell_type": "markdown",
      "source": [
        "<h4> Variável clube </h4>"
      ],
      "metadata": {
        "id": "_Wkvv4oGtMZN"
      }
    },
    {
      "cell_type": "code",
      "source": [
        "print('Qtde de CLUBES únicos ',len(campeonate_cartoes['clube'].unique()))"
      ],
      "outputs": [
        {
          "output_type": "stream",
          "name": "stdout",
          "text": "Qtde de CLUBES únicos  34\n"
        }
      ],
      "execution_count": 3,
      "metadata": {
        "gather": {
          "logged": 1687637286260
        }
      }
    },
    {
      "cell_type": "code",
      "source": [
        "print('CLUBES únicos ',campeonate_cartoes['clube'].unique())"
      ],
      "outputs": [
        {
          "output_type": "stream",
          "name": "stdout",
          "text": "CLUBES únicos  ['Figueirense' 'Internacional' 'Vitoria' 'Coritiba' 'Sport' 'Criciuma'\n 'Palmeiras' 'Athletico-PR' 'Gremio' 'Botafogo-RJ' 'Bahia' 'Cruzeiro'\n 'Flamengo' 'Goias' 'Santos' 'Sao Paulo' 'Fluminense' 'Corinthians'\n 'Atletico-MG' 'Chapecoense' 'Joinville' 'Ponte Preta' 'Avai' 'Vasco'\n 'Santa Cruz' 'America-MG' 'Atletico-GO' 'Ceara' 'Parana' 'Fortaleza'\n 'CSA' 'Bragantino' 'Cuiaba' 'Juventude']\n"
        }
      ],
      "execution_count": 12,
      "metadata": {
        "collapsed": false,
        "gather": {
          "logged": 1687631561384
        },
        "jupyter": {
          "outputs_hidden": false,
          "source_hidden": false
        },
        "nteract": {
          "transient": {
            "deleting": false
          }
        }
      }
    },
    {
      "cell_type": "markdown",
      "source": [
        "<h4> Variável CARTÃO </h4>"
      ],
      "metadata": {}
    },
    {
      "cell_type": "code",
      "source": [
        "print('Qtde de CARTÕES únicos ',len(campeonate_cartoes['cartao'].unique()))"
      ],
      "outputs": [
        {
          "output_type": "stream",
          "name": "stdout",
          "text": "Qtde de CARTÕES únicos  2\n"
        }
      ],
      "execution_count": 16,
      "metadata": {
        "gather": {
          "logged": 1687631721802
        }
      }
    },
    {
      "cell_type": "code",
      "source": [
        "campeonate_cartoes['cartao'].nunique()"
      ],
      "outputs": [
        {
          "output_type": "execute_result",
          "execution_count": 17,
          "data": {
            "text/plain": "2"
          },
          "metadata": {}
        }
      ],
      "execution_count": 17,
      "metadata": {
        "gather": {
          "logged": 1687631727659
        }
      }
    },
    {
      "cell_type": "code",
      "source": [
        "campeonate_cartoes['cartao'].unique()"
      ],
      "outputs": [
        {
          "output_type": "execute_result",
          "execution_count": 18,
          "data": {
            "text/plain": "array(['Amarelo', 'Vermelho'], dtype=object)"
          },
          "metadata": {}
        }
      ],
      "execution_count": 18,
      "metadata": {
        "gather": {
          "logged": 1687631744403
        }
      }
    },
    {
      "cell_type": "markdown",
      "source": [
        "<h4> Aplicação do nosso próprio  ORDINAL ENCODER </h4>"
      ],
      "metadata": {}
    },
    {
      "cell_type": "code",
      "source": [
        "def ordinal_encoder(dataframe,coluna):\n",
        "    nome_nova_coluna = coluna + '__numeric'\n",
        "    i = 0\n",
        "    print(f'Contagem de valores únicos {dataframe[coluna].unique()}')\n",
        "    lista_index_unicos = list(range(0,len(dataframe[coluna].unique())))\n",
        "    print(lista_index_unicos)\n",
        "    for index, row in dataframe.iterrows():\n",
        "        dataframe[row,nome_nova_coluna] = lista_index_unicos[i]\n",
        "        i+=1\n",
        "    print('Aplicação realizada = ORDINAL ENCODER')\n",
        "    return dataframe"
      ],
      "outputs": [],
      "execution_count": 32,
      "metadata": {
        "gather": {
          "logged": 1687637634034
        }
      }
    },
    {
      "cell_type": "code",
      "source": [
        "campeonate_cartoes[[\"cartao\"]].head(5)"
      ],
      "outputs": [
        {
          "output_type": "execute_result",
          "execution_count": 27,
          "data": {
            "text/plain": "    cartao\n0  Amarelo\n1  Amarelo\n2  Amarelo\n3  Amarelo\n4  Amarelo",
            "text/html": "<div>\n<style scoped>\n    .dataframe tbody tr th:only-of-type {\n        vertical-align: middle;\n    }\n\n    .dataframe tbody tr th {\n        vertical-align: top;\n    }\n\n    .dataframe thead th {\n        text-align: right;\n    }\n</style>\n<table border=\"1\" class=\"dataframe\">\n  <thead>\n    <tr style=\"text-align: right;\">\n      <th></th>\n      <th>cartao</th>\n    </tr>\n  </thead>\n  <tbody>\n    <tr>\n      <th>0</th>\n      <td>Amarelo</td>\n    </tr>\n    <tr>\n      <th>1</th>\n      <td>Amarelo</td>\n    </tr>\n    <tr>\n      <th>2</th>\n      <td>Amarelo</td>\n    </tr>\n    <tr>\n      <th>3</th>\n      <td>Amarelo</td>\n    </tr>\n    <tr>\n      <th>4</th>\n      <td>Amarelo</td>\n    </tr>\n  </tbody>\n</table>\n</div>"
          },
          "metadata": {}
        }
      ],
      "execution_count": 27,
      "metadata": {
        "gather": {
          "logged": 1687637553070
        }
      }
    },
    {
      "cell_type": "code",
      "source": [
        "ordinal_encoder(campeonate_cartoes,'cartao')"
      ],
      "outputs": [
        {
          "output_type": "stream",
          "name": "stdout",
          "text": "Contagem de valores únicos ['Amarelo' 'Vermelho']\n[0, 1]\n"
        },
        {
          "output_type": "error",
          "ename": "TypeError",
          "evalue": "'Series' objects are mutable, thus they cannot be hashed",
          "traceback": [
            "\u001b[0;31m---------------------------------------------------------------------------\u001b[0m",
            "\u001b[0;31mTypeError\u001b[0m                                 Traceback (most recent call last)",
            "Cell \u001b[0;32mIn[33], line 1\u001b[0m\n\u001b[0;32m----> 1\u001b[0m \u001b[43mordinal_encoder\u001b[49m\u001b[43m(\u001b[49m\u001b[43mcampeonate_cartoes\u001b[49m\u001b[43m,\u001b[49m\u001b[38;5;124;43m'\u001b[39;49m\u001b[38;5;124;43mcartao\u001b[39;49m\u001b[38;5;124;43m'\u001b[39;49m\u001b[43m)\u001b[49m\n",
            "Cell \u001b[0;32mIn[32], line 8\u001b[0m, in \u001b[0;36mordinal_encoder\u001b[0;34m(dataframe, coluna)\u001b[0m\n\u001b[1;32m      6\u001b[0m \u001b[38;5;28mprint\u001b[39m(lista_index_unicos)\n\u001b[1;32m      7\u001b[0m \u001b[38;5;28;01mfor\u001b[39;00m index, row \u001b[38;5;129;01min\u001b[39;00m dataframe\u001b[38;5;241m.\u001b[39miterrows():\n\u001b[0;32m----> 8\u001b[0m     \u001b[43mdataframe\u001b[49m\u001b[43m[\u001b[49m\u001b[43mrow\u001b[49m\u001b[43m,\u001b[49m\u001b[43mnome_nova_coluna\u001b[49m\u001b[43m]\u001b[49m \u001b[38;5;241m=\u001b[39m lista_index_unicos[i]\n\u001b[1;32m      9\u001b[0m     i\u001b[38;5;241m+\u001b[39m\u001b[38;5;241m=\u001b[39m\u001b[38;5;241m1\u001b[39m\n\u001b[1;32m     10\u001b[0m \u001b[38;5;28mprint\u001b[39m(\u001b[38;5;124m'\u001b[39m\u001b[38;5;124mAplicação realizada = ORDINAL ENCODER\u001b[39m\u001b[38;5;124m'\u001b[39m)\n",
            "File \u001b[0;32m/anaconda/envs/azureml_py38/lib/python3.8/site-packages/pandas/core/frame.py:3044\u001b[0m, in \u001b[0;36mDataFrame.__setitem__\u001b[0;34m(self, key, value)\u001b[0m\n\u001b[1;32m   3041\u001b[0m     \u001b[38;5;28mself\u001b[39m\u001b[38;5;241m.\u001b[39m_setitem_array(key, value)\n\u001b[1;32m   3042\u001b[0m \u001b[38;5;28;01melse\u001b[39;00m:\n\u001b[1;32m   3043\u001b[0m     \u001b[38;5;66;03m# set column\u001b[39;00m\n\u001b[0;32m-> 3044\u001b[0m     \u001b[38;5;28;43mself\u001b[39;49m\u001b[38;5;241;43m.\u001b[39;49m\u001b[43m_set_item\u001b[49m\u001b[43m(\u001b[49m\u001b[43mkey\u001b[49m\u001b[43m,\u001b[49m\u001b[43m \u001b[49m\u001b[43mvalue\u001b[49m\u001b[43m)\u001b[49m\n",
            "File \u001b[0;32m/anaconda/envs/azureml_py38/lib/python3.8/site-packages/pandas/core/frame.py:3120\u001b[0m, in \u001b[0;36mDataFrame._set_item\u001b[0;34m(self, key, value)\u001b[0m\n\u001b[1;32m   3110\u001b[0m \u001b[38;5;250m\u001b[39m\u001b[38;5;124;03m\"\"\"\u001b[39;00m\n\u001b[1;32m   3111\u001b[0m \u001b[38;5;124;03mAdd series to DataFrame in specified column.\u001b[39;00m\n\u001b[1;32m   3112\u001b[0m \n\u001b[0;32m   (...)\u001b[0m\n\u001b[1;32m   3117\u001b[0m \u001b[38;5;124;03mensure homogeneity.\u001b[39;00m\n\u001b[1;32m   3118\u001b[0m \u001b[38;5;124;03m\"\"\"\u001b[39;00m\n\u001b[1;32m   3119\u001b[0m \u001b[38;5;28mself\u001b[39m\u001b[38;5;241m.\u001b[39m_ensure_valid_index(value)\n\u001b[0;32m-> 3120\u001b[0m value \u001b[38;5;241m=\u001b[39m \u001b[38;5;28;43mself\u001b[39;49m\u001b[38;5;241;43m.\u001b[39;49m\u001b[43m_sanitize_column\u001b[49m\u001b[43m(\u001b[49m\u001b[43mkey\u001b[49m\u001b[43m,\u001b[49m\u001b[43m \u001b[49m\u001b[43mvalue\u001b[49m\u001b[43m)\u001b[49m\n\u001b[1;32m   3121\u001b[0m NDFrame\u001b[38;5;241m.\u001b[39m_set_item(\u001b[38;5;28mself\u001b[39m, key, value)\n\u001b[1;32m   3123\u001b[0m \u001b[38;5;66;03m# check if we are modifying a copy\u001b[39;00m\n\u001b[1;32m   3124\u001b[0m \u001b[38;5;66;03m# try to set first as we want an invalid\u001b[39;00m\n\u001b[1;32m   3125\u001b[0m \u001b[38;5;66;03m# value exception to occur first\u001b[39;00m\n",
            "File \u001b[0;32m/anaconda/envs/azureml_py38/lib/python3.8/site-packages/pandas/core/frame.py:3804\u001b[0m, in \u001b[0;36mDataFrame._sanitize_column\u001b[0;34m(self, key, value, broadcast)\u001b[0m\n\u001b[1;32m   3801\u001b[0m     \u001b[38;5;28;01mreturn\u001b[39;00m value\n\u001b[1;32m   3803\u001b[0m \u001b[38;5;66;03m# broadcast across multiple columns if necessary\u001b[39;00m\n\u001b[0;32m-> 3804\u001b[0m \u001b[38;5;28;01mif\u001b[39;00m broadcast \u001b[38;5;129;01mand\u001b[39;00m \u001b[43mkey\u001b[49m\u001b[43m \u001b[49m\u001b[38;5;129;43;01min\u001b[39;49;00m\u001b[43m \u001b[49m\u001b[38;5;28;43mself\u001b[39;49m\u001b[38;5;241;43m.\u001b[39;49m\u001b[43mcolumns\u001b[49m \u001b[38;5;129;01mand\u001b[39;00m value\u001b[38;5;241m.\u001b[39mndim \u001b[38;5;241m==\u001b[39m \u001b[38;5;241m1\u001b[39m:\n\u001b[1;32m   3805\u001b[0m     \u001b[38;5;28;01mif\u001b[39;00m \u001b[38;5;129;01mnot\u001b[39;00m \u001b[38;5;28mself\u001b[39m\u001b[38;5;241m.\u001b[39mcolumns\u001b[38;5;241m.\u001b[39mis_unique \u001b[38;5;129;01mor\u001b[39;00m \u001b[38;5;28misinstance\u001b[39m(\u001b[38;5;28mself\u001b[39m\u001b[38;5;241m.\u001b[39mcolumns, MultiIndex):\n\u001b[1;32m   3806\u001b[0m         existing_piece \u001b[38;5;241m=\u001b[39m \u001b[38;5;28mself\u001b[39m[key]\n",
            "File \u001b[0;32m/anaconda/envs/azureml_py38/lib/python3.8/site-packages/pandas/core/indexes/base.py:4074\u001b[0m, in \u001b[0;36mIndex.__contains__\u001b[0;34m(self, key)\u001b[0m\n\u001b[1;32m   4039\u001b[0m \u001b[38;5;28;01mdef\u001b[39;00m \u001b[38;5;21m__contains__\u001b[39m(\u001b[38;5;28mself\u001b[39m, key: Any) \u001b[38;5;241m-\u001b[39m\u001b[38;5;241m>\u001b[39m \u001b[38;5;28mbool\u001b[39m:\n\u001b[1;32m   4040\u001b[0m \u001b[38;5;250m    \u001b[39m\u001b[38;5;124;03m\"\"\"\u001b[39;00m\n\u001b[1;32m   4041\u001b[0m \u001b[38;5;124;03m    Return a boolean indicating whether the provided key is in the index.\u001b[39;00m\n\u001b[1;32m   4042\u001b[0m \n\u001b[0;32m   (...)\u001b[0m\n\u001b[1;32m   4072\u001b[0m \u001b[38;5;124;03m    False\u001b[39;00m\n\u001b[1;32m   4073\u001b[0m \u001b[38;5;124;03m    \"\"\"\u001b[39;00m\n\u001b[0;32m-> 4074\u001b[0m     \u001b[38;5;28;43mhash\u001b[39;49m\u001b[43m(\u001b[49m\u001b[43mkey\u001b[49m\u001b[43m)\u001b[49m\n\u001b[1;32m   4075\u001b[0m     \u001b[38;5;28;01mtry\u001b[39;00m:\n\u001b[1;32m   4076\u001b[0m         \u001b[38;5;28;01mreturn\u001b[39;00m key \u001b[38;5;129;01min\u001b[39;00m \u001b[38;5;28mself\u001b[39m\u001b[38;5;241m.\u001b[39m_engine\n",
            "File \u001b[0;32m/anaconda/envs/azureml_py38/lib/python3.8/site-packages/pandas/core/generic.py:1668\u001b[0m, in \u001b[0;36mNDFrame.__hash__\u001b[0;34m(self)\u001b[0m\n\u001b[1;32m   1667\u001b[0m \u001b[38;5;28;01mdef\u001b[39;00m \u001b[38;5;21m__hash__\u001b[39m(\u001b[38;5;28mself\u001b[39m):\n\u001b[0;32m-> 1668\u001b[0m     \u001b[38;5;28;01mraise\u001b[39;00m \u001b[38;5;167;01mTypeError\u001b[39;00m(\n\u001b[1;32m   1669\u001b[0m         \u001b[38;5;124mf\u001b[39m\u001b[38;5;124m\"\u001b[39m\u001b[38;5;132;01m{\u001b[39;00m\u001b[38;5;28mrepr\u001b[39m(\u001b[38;5;28mtype\u001b[39m(\u001b[38;5;28mself\u001b[39m)\u001b[38;5;241m.\u001b[39m\u001b[38;5;18m__name__\u001b[39m)\u001b[38;5;132;01m}\u001b[39;00m\u001b[38;5;124m objects are mutable, \u001b[39m\u001b[38;5;124m\"\u001b[39m\n\u001b[1;32m   1670\u001b[0m         \u001b[38;5;124mf\u001b[39m\u001b[38;5;124m\"\u001b[39m\u001b[38;5;124mthus they cannot be hashed\u001b[39m\u001b[38;5;124m\"\u001b[39m\n\u001b[1;32m   1671\u001b[0m     )\n",
            "\u001b[0;31mTypeError\u001b[0m: 'Series' objects are mutable, thus they cannot be hashed"
          ]
        }
      ],
      "execution_count": 33,
      "metadata": {
        "jupyter": {
          "source_hidden": false,
          "outputs_hidden": false
        },
        "nteract": {
          "transient": {
            "deleting": false
          }
        },
        "gather": {
          "logged": 1687637637772
        }
      }
    }
  ],
  "metadata": {
    "colab": {
      "provenance": []
    },
    "kernel_info": {
      "name": "python38-azureml"
    },
    "kernelspec": {
      "name": "python38-azureml",
      "language": "python",
      "display_name": "Python 3.8 - AzureML"
    },
    "language_info": {
      "name": "python",
      "version": "3.8.5",
      "mimetype": "text/x-python",
      "codemirror_mode": {
        "name": "ipython",
        "version": 3
      },
      "pygments_lexer": "ipython3",
      "nbconvert_exporter": "python",
      "file_extension": ".py"
    },
    "microsoft": {
      "ms_spell_check": {
        "ms_spell_check_language": "en"
      }
    },
    "nteract": {
      "version": "nteract-front-end@1.0.0"
    }
  },
  "nbformat": 4,
  "nbformat_minor": 4
}