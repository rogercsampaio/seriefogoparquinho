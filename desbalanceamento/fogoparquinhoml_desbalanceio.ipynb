{
  "cells": [
    {
      "cell_type": "markdown",
      "source": [
        "<img src=\"imagens/logo_oficial.jpg\"/>"
      ],
      "metadata": {
        "nteract": {
          "transient": {
            "deleting": false
          }
        }
      }
    },
    {
      "cell_type": "markdown",
      "source": [
        "# Série Fogo no Parquinho: Desbalanceio"
      ],
      "metadata": {
        "nteract": {
          "transient": {
            "deleting": false
          }
        }
      }
    },
    {
      "cell_type": "markdown",
      "source": [
        "#### https://www.kaggle.com/datasets/devansodariya/student-performance-data"
      ],
      "metadata": {
        "nteract": {
          "transient": {
            "deleting": false
          }
        }
      }
    },
    {
      "cell_type": "markdown",
      "source": [
        "### Importações"
      ],
      "metadata": {
        "nteract": {
          "transient": {
            "deleting": false
          }
        }
      }
    },
    {
      "cell_type": "code",
      "source": [
        "# Pacotes Python aqui. \r\n",
        "import pandas as pd\r\n",
        "from sklearn.ensemble import RandomForestClassifier\r\n",
        "from sklearn.model_selection import train_test_split\r\n",
        "from sklearn.metrics import classification_report\r\n",
        "from imblearn.over_sampling import RandomOverSampler\r\n",
        "from imblearn.under_sampling import RandomUnderSampler\r\n",
        "from collections import Counter  \r\n"
      ],
      "outputs": [],
      "execution_count": 1,
      "metadata": {
        "jupyter": {
          "source_hidden": false,
          "outputs_hidden": false
        },
        "nteract": {
          "transient": {
            "deleting": false
          }
        },
        "gather": {
          "logged": 1667674398108
        }
      }
    },
    {
      "cell_type": "code",
      "source": [
        "# # Caso precise instalar a biblioteca imblearn\r\n",
        "#!pip install imblearn"
      ],
      "outputs": [],
      "execution_count": 2,
      "metadata": {
        "jupyter": {
          "source_hidden": false,
          "outputs_hidden": false
        },
        "nteract": {
          "transient": {
            "deleting": false
          }
        },
        "gather": {
          "logged": 1667674460022
        }
      }
    },
    {
      "cell_type": "markdown",
      "source": [
        "## Declarações de Funções"
      ],
      "metadata": {
        "nteract": {
          "transient": {
            "deleting": false
          }
        }
      }
    },
    {
      "cell_type": "markdown",
      "source": [
        "## Leitura de Base de Dados"
      ],
      "metadata": {
        "nteract": {
          "transient": {
            "deleting": false
          }
        }
      }
    },
    {
      "cell_type": "code",
      "source": [
        "estudantes = pd.read_csv('bases/student_data.csv')"
      ],
      "outputs": [],
      "execution_count": 3,
      "metadata": {
        "jupyter": {
          "source_hidden": false,
          "outputs_hidden": false
        },
        "nteract": {
          "transient": {
            "deleting": false
          }
        },
        "gather": {
          "logged": 1667674472652
        }
      }
    },
    {
      "cell_type": "code",
      "source": [
        "estudantes.shape"
      ],
      "outputs": [
        {
          "output_type": "execute_result",
          "execution_count": 4,
          "data": {
            "text/plain": "(395, 33)"
          },
          "metadata": {}
        }
      ],
      "execution_count": 4,
      "metadata": {
        "jupyter": {
          "source_hidden": false,
          "outputs_hidden": false
        },
        "nteract": {
          "transient": {
            "deleting": false
          }
        },
        "gather": {
          "logged": 1667674476370
        }
      }
    },
    {
      "cell_type": "code",
      "source": [
        "estudantes.columns"
      ],
      "outputs": [
        {
          "output_type": "execute_result",
          "execution_count": 5,
          "data": {
            "text/plain": "Index(['school', 'sex', 'age', 'address', 'famsize', 'Pstatus', 'Medu', 'Fedu',\n       'Mjob', 'Fjob', 'reason', 'guardian', 'traveltime', 'studytime',\n       'failures', 'schoolsup', 'famsup', 'paid', 'activities', 'nursery',\n       'higher', 'internet', 'romantic', 'famrel', 'freetime', 'goout', 'Dalc',\n       'Walc', 'health', 'absences', 'G1', 'G2', 'G3'],\n      dtype='object')"
          },
          "metadata": {}
        }
      ],
      "execution_count": 5,
      "metadata": {
        "jupyter": {
          "source_hidden": false,
          "outputs_hidden": false
        },
        "nteract": {
          "transient": {
            "deleting": false
          }
        },
        "gather": {
          "logged": 1667674498611
        }
      }
    },
    {
      "cell_type": "code",
      "source": [
        "# Visualizar o tipo de cada dado e nome da coluna\r\n",
        "estudantes.dtypes"
      ],
      "outputs": [
        {
          "output_type": "execute_result",
          "execution_count": 6,
          "data": {
            "text/plain": "school        object\nsex           object\nage            int64\naddress       object\nfamsize       object\nPstatus       object\nMedu           int64\nFedu           int64\nMjob          object\nFjob          object\nreason        object\nguardian      object\ntraveltime     int64\nstudytime      int64\nfailures       int64\nschoolsup     object\nfamsup        object\npaid          object\nactivities    object\nnursery       object\nhigher        object\ninternet      object\nromantic      object\nfamrel         int64\nfreetime       int64\ngoout          int64\nDalc           int64\nWalc           int64\nhealth         int64\nabsences       int64\nG1             int64\nG2             int64\nG3             int64\ndtype: object"
          },
          "metadata": {}
        }
      ],
      "execution_count": 6,
      "metadata": {
        "jupyter": {
          "source_hidden": false,
          "outputs_hidden": false
        },
        "nteract": {
          "transient": {
            "deleting": false
          }
        },
        "gather": {
          "logged": 1667674513265
        }
      }
    },
    {
      "cell_type": "code",
      "source": [
        "# Visualizando alguns registros\r\n",
        "estudantes.head(5)"
      ],
      "outputs": [
        {
          "output_type": "execute_result",
          "execution_count": 7,
          "data": {
            "text/plain": "  school sex  age address famsize Pstatus  Medu  Fedu     Mjob      Fjob  ...  \\\n0     GP   F   18       U     GT3       A     4     4  at_home   teacher  ...   \n1     GP   F   17       U     GT3       T     1     1  at_home     other  ...   \n2     GP   F   15       U     LE3       T     1     1  at_home     other  ...   \n3     GP   F   15       U     GT3       T     4     2   health  services  ...   \n4     GP   F   16       U     GT3       T     3     3    other     other  ...   \n\n  famrel freetime  goout  Dalc  Walc health absences  G1  G2  G3  \n0      4        3      4     1     1      3        6   5   6   6  \n1      5        3      3     1     1      3        4   5   5   6  \n2      4        3      2     2     3      3       10   7   8  10  \n3      3        2      2     1     1      5        2  15  14  15  \n4      4        3      2     1     2      5        4   6  10  10  \n\n[5 rows x 33 columns]",
            "text/html": "<div>\n<style scoped>\n    .dataframe tbody tr th:only-of-type {\n        vertical-align: middle;\n    }\n\n    .dataframe tbody tr th {\n        vertical-align: top;\n    }\n\n    .dataframe thead th {\n        text-align: right;\n    }\n</style>\n<table border=\"1\" class=\"dataframe\">\n  <thead>\n    <tr style=\"text-align: right;\">\n      <th></th>\n      <th>school</th>\n      <th>sex</th>\n      <th>age</th>\n      <th>address</th>\n      <th>famsize</th>\n      <th>Pstatus</th>\n      <th>Medu</th>\n      <th>Fedu</th>\n      <th>Mjob</th>\n      <th>Fjob</th>\n      <th>...</th>\n      <th>famrel</th>\n      <th>freetime</th>\n      <th>goout</th>\n      <th>Dalc</th>\n      <th>Walc</th>\n      <th>health</th>\n      <th>absences</th>\n      <th>G1</th>\n      <th>G2</th>\n      <th>G3</th>\n    </tr>\n  </thead>\n  <tbody>\n    <tr>\n      <th>0</th>\n      <td>GP</td>\n      <td>F</td>\n      <td>18</td>\n      <td>U</td>\n      <td>GT3</td>\n      <td>A</td>\n      <td>4</td>\n      <td>4</td>\n      <td>at_home</td>\n      <td>teacher</td>\n      <td>...</td>\n      <td>4</td>\n      <td>3</td>\n      <td>4</td>\n      <td>1</td>\n      <td>1</td>\n      <td>3</td>\n      <td>6</td>\n      <td>5</td>\n      <td>6</td>\n      <td>6</td>\n    </tr>\n    <tr>\n      <th>1</th>\n      <td>GP</td>\n      <td>F</td>\n      <td>17</td>\n      <td>U</td>\n      <td>GT3</td>\n      <td>T</td>\n      <td>1</td>\n      <td>1</td>\n      <td>at_home</td>\n      <td>other</td>\n      <td>...</td>\n      <td>5</td>\n      <td>3</td>\n      <td>3</td>\n      <td>1</td>\n      <td>1</td>\n      <td>3</td>\n      <td>4</td>\n      <td>5</td>\n      <td>5</td>\n      <td>6</td>\n    </tr>\n    <tr>\n      <th>2</th>\n      <td>GP</td>\n      <td>F</td>\n      <td>15</td>\n      <td>U</td>\n      <td>LE3</td>\n      <td>T</td>\n      <td>1</td>\n      <td>1</td>\n      <td>at_home</td>\n      <td>other</td>\n      <td>...</td>\n      <td>4</td>\n      <td>3</td>\n      <td>2</td>\n      <td>2</td>\n      <td>3</td>\n      <td>3</td>\n      <td>10</td>\n      <td>7</td>\n      <td>8</td>\n      <td>10</td>\n    </tr>\n    <tr>\n      <th>3</th>\n      <td>GP</td>\n      <td>F</td>\n      <td>15</td>\n      <td>U</td>\n      <td>GT3</td>\n      <td>T</td>\n      <td>4</td>\n      <td>2</td>\n      <td>health</td>\n      <td>services</td>\n      <td>...</td>\n      <td>3</td>\n      <td>2</td>\n      <td>2</td>\n      <td>1</td>\n      <td>1</td>\n      <td>5</td>\n      <td>2</td>\n      <td>15</td>\n      <td>14</td>\n      <td>15</td>\n    </tr>\n    <tr>\n      <th>4</th>\n      <td>GP</td>\n      <td>F</td>\n      <td>16</td>\n      <td>U</td>\n      <td>GT3</td>\n      <td>T</td>\n      <td>3</td>\n      <td>3</td>\n      <td>other</td>\n      <td>other</td>\n      <td>...</td>\n      <td>4</td>\n      <td>3</td>\n      <td>2</td>\n      <td>1</td>\n      <td>2</td>\n      <td>5</td>\n      <td>4</td>\n      <td>6</td>\n      <td>10</td>\n      <td>10</td>\n    </tr>\n  </tbody>\n</table>\n<p>5 rows × 33 columns</p>\n</div>"
          },
          "metadata": {}
        }
      ],
      "execution_count": 7,
      "metadata": {
        "jupyter": {
          "source_hidden": false,
          "outputs_hidden": false
        },
        "nteract": {
          "transient": {
            "deleting": false
          }
        },
        "gather": {
          "logged": 1667674531673
        }
      }
    },
    {
      "cell_type": "code",
      "source": [
        "# Verificando a existência de valores NULOS em qualquer coluna\r\n",
        "estudantes.isnull().sum()"
      ],
      "outputs": [
        {
          "output_type": "execute_result",
          "execution_count": 8,
          "data": {
            "text/plain": "school        0\nsex           0\nage           0\naddress       0\nfamsize       0\nPstatus       0\nMedu          0\nFedu          0\nMjob          0\nFjob          0\nreason        0\nguardian      0\ntraveltime    0\nstudytime     0\nfailures      0\nschoolsup     0\nfamsup        0\npaid          0\nactivities    0\nnursery       0\nhigher        0\ninternet      0\nromantic      0\nfamrel        0\nfreetime      0\ngoout         0\nDalc          0\nWalc          0\nhealth        0\nabsences      0\nG1            0\nG2            0\nG3            0\ndtype: int64"
          },
          "metadata": {}
        }
      ],
      "execution_count": 8,
      "metadata": {
        "jupyter": {
          "source_hidden": false,
          "outputs_hidden": false
        },
        "nteract": {
          "transient": {
            "deleting": false
          }
        },
        "gather": {
          "logged": 1667674620797
        }
      }
    },
    {
      "cell_type": "code",
      "source": [
        "# Vamos trabalhar apenas com algumas\r\n",
        "estudantes = estudantes[['school','sex','age','address','studytime','freetime','absences','G1','G2','G3']]"
      ],
      "outputs": [],
      "execution_count": 9,
      "metadata": {
        "jupyter": {
          "source_hidden": false,
          "outputs_hidden": false
        },
        "nteract": {
          "transient": {
            "deleting": false
          }
        },
        "gather": {
          "logged": 1667674663847
        }
      }
    },
    {
      "cell_type": "code",
      "source": [
        "estudantes.columns"
      ],
      "outputs": [
        {
          "output_type": "execute_result",
          "execution_count": 10,
          "data": {
            "text/plain": "Index(['school', 'sex', 'age', 'address', 'studytime', 'freetime', 'absences',\n       'G1', 'G2', 'G3'],\n      dtype='object')"
          },
          "metadata": {}
        }
      ],
      "execution_count": 10,
      "metadata": {
        "jupyter": {
          "source_hidden": false,
          "outputs_hidden": false
        },
        "nteract": {
          "transient": {
            "deleting": false
          }
        },
        "gather": {
          "logged": 1667674665047
        }
      }
    },
    {
      "cell_type": "code",
      "source": [
        "estudantes.head(5)"
      ],
      "outputs": [
        {
          "output_type": "execute_result",
          "execution_count": 11,
          "data": {
            "text/plain": "  school sex  age address  studytime  freetime  absences  G1  G2  G3\n0     GP   F   18       U          2         3         6   5   6   6\n1     GP   F   17       U          2         3         4   5   5   6\n2     GP   F   15       U          2         3        10   7   8  10\n3     GP   F   15       U          3         2         2  15  14  15\n4     GP   F   16       U          2         3         4   6  10  10",
            "text/html": "<div>\n<style scoped>\n    .dataframe tbody tr th:only-of-type {\n        vertical-align: middle;\n    }\n\n    .dataframe tbody tr th {\n        vertical-align: top;\n    }\n\n    .dataframe thead th {\n        text-align: right;\n    }\n</style>\n<table border=\"1\" class=\"dataframe\">\n  <thead>\n    <tr style=\"text-align: right;\">\n      <th></th>\n      <th>school</th>\n      <th>sex</th>\n      <th>age</th>\n      <th>address</th>\n      <th>studytime</th>\n      <th>freetime</th>\n      <th>absences</th>\n      <th>G1</th>\n      <th>G2</th>\n      <th>G3</th>\n    </tr>\n  </thead>\n  <tbody>\n    <tr>\n      <th>0</th>\n      <td>GP</td>\n      <td>F</td>\n      <td>18</td>\n      <td>U</td>\n      <td>2</td>\n      <td>3</td>\n      <td>6</td>\n      <td>5</td>\n      <td>6</td>\n      <td>6</td>\n    </tr>\n    <tr>\n      <th>1</th>\n      <td>GP</td>\n      <td>F</td>\n      <td>17</td>\n      <td>U</td>\n      <td>2</td>\n      <td>3</td>\n      <td>4</td>\n      <td>5</td>\n      <td>5</td>\n      <td>6</td>\n    </tr>\n    <tr>\n      <th>2</th>\n      <td>GP</td>\n      <td>F</td>\n      <td>15</td>\n      <td>U</td>\n      <td>2</td>\n      <td>3</td>\n      <td>10</td>\n      <td>7</td>\n      <td>8</td>\n      <td>10</td>\n    </tr>\n    <tr>\n      <th>3</th>\n      <td>GP</td>\n      <td>F</td>\n      <td>15</td>\n      <td>U</td>\n      <td>3</td>\n      <td>2</td>\n      <td>2</td>\n      <td>15</td>\n      <td>14</td>\n      <td>15</td>\n    </tr>\n    <tr>\n      <th>4</th>\n      <td>GP</td>\n      <td>F</td>\n      <td>16</td>\n      <td>U</td>\n      <td>2</td>\n      <td>3</td>\n      <td>4</td>\n      <td>6</td>\n      <td>10</td>\n      <td>10</td>\n    </tr>\n  </tbody>\n</table>\n</div>"
          },
          "metadata": {}
        }
      ],
      "execution_count": 11,
      "metadata": {
        "jupyter": {
          "source_hidden": false,
          "outputs_hidden": false
        },
        "nteract": {
          "transient": {
            "deleting": false
          }
        },
        "gather": {
          "logged": 1667674668624
        }
      }
    },
    {
      "cell_type": "markdown",
      "source": [
        "## Divisão entre FEATURES e LABEL"
      ],
      "metadata": {
        "nteract": {
          "transient": {
            "deleting": false
          }
        }
      }
    },
    {
      "cell_type": "code",
      "source": [
        "def transformar_label(escola):\r\n",
        "    if(escola == 'GP'):\r\n",
        "        return 0\r\n",
        "    return 1 # MS"
      ],
      "outputs": [],
      "execution_count": 13,
      "metadata": {
        "jupyter": {
          "source_hidden": false,
          "outputs_hidden": false
        },
        "nteract": {
          "transient": {
            "deleting": false
          }
        },
        "gather": {
          "logged": 1667674770918
        }
      }
    },
    {
      "cell_type": "code",
      "source": [
        "estudantes['school'] = estudantes['school'].apply(transformar_label)"
      ],
      "outputs": [],
      "execution_count": 14,
      "metadata": {
        "jupyter": {
          "source_hidden": false,
          "outputs_hidden": false
        },
        "nteract": {
          "transient": {
            "deleting": false
          }
        },
        "gather": {
          "logged": 1667674772352
        }
      }
    },
    {
      "cell_type": "code",
      "source": [
        "estudantes['school']"
      ],
      "outputs": [
        {
          "output_type": "execute_result",
          "execution_count": 15,
          "data": {
            "text/plain": "0      0\n1      0\n2      0\n3      0\n4      0\n      ..\n390    1\n391    1\n392    1\n393    1\n394    1\nName: school, Length: 395, dtype: int64"
          },
          "metadata": {}
        }
      ],
      "execution_count": 15,
      "metadata": {
        "jupyter": {
          "source_hidden": false,
          "outputs_hidden": false
        },
        "nteract": {
          "transient": {
            "deleting": false
          }
        },
        "gather": {
          "logged": 1667674775357
        }
      }
    },
    {
      "cell_type": "code",
      "source": [
        "# Prever o school do estudante: GP ou MS.\r\n",
        "features_x = estudantes.drop(['school'], axis = 1)\r\n",
        "label_y = estudantes['school']"
      ],
      "outputs": [],
      "execution_count": 16,
      "metadata": {
        "jupyter": {
          "source_hidden": false,
          "outputs_hidden": false
        },
        "nteract": {
          "transient": {
            "deleting": false
          }
        },
        "gather": {
          "logged": 1667674827837
        }
      }
    },
    {
      "cell_type": "code",
      "source": [
        "features_x"
      ],
      "outputs": [
        {
          "output_type": "execute_result",
          "execution_count": 17,
          "data": {
            "text/plain": "    sex  age address  studytime  freetime  absences  G1  G2  G3\n0     F   18       U          2         3         6   5   6   6\n1     F   17       U          2         3         4   5   5   6\n2     F   15       U          2         3        10   7   8  10\n3     F   15       U          3         2         2  15  14  15\n4     F   16       U          2         3         4   6  10  10\n..   ..  ...     ...        ...       ...       ...  ..  ..  ..\n390   M   20       U          2         5        11   9   9   9\n391   M   17       U          1         4         3  14  16  16\n392   M   21       R          1         5         3  10   8   7\n393   M   18       R          1         4         0  11  12  10\n394   M   19       U          1         2         5   8   9   9\n\n[395 rows x 9 columns]",
            "text/html": "<div>\n<style scoped>\n    .dataframe tbody tr th:only-of-type {\n        vertical-align: middle;\n    }\n\n    .dataframe tbody tr th {\n        vertical-align: top;\n    }\n\n    .dataframe thead th {\n        text-align: right;\n    }\n</style>\n<table border=\"1\" class=\"dataframe\">\n  <thead>\n    <tr style=\"text-align: right;\">\n      <th></th>\n      <th>sex</th>\n      <th>age</th>\n      <th>address</th>\n      <th>studytime</th>\n      <th>freetime</th>\n      <th>absences</th>\n      <th>G1</th>\n      <th>G2</th>\n      <th>G3</th>\n    </tr>\n  </thead>\n  <tbody>\n    <tr>\n      <th>0</th>\n      <td>F</td>\n      <td>18</td>\n      <td>U</td>\n      <td>2</td>\n      <td>3</td>\n      <td>6</td>\n      <td>5</td>\n      <td>6</td>\n      <td>6</td>\n    </tr>\n    <tr>\n      <th>1</th>\n      <td>F</td>\n      <td>17</td>\n      <td>U</td>\n      <td>2</td>\n      <td>3</td>\n      <td>4</td>\n      <td>5</td>\n      <td>5</td>\n      <td>6</td>\n    </tr>\n    <tr>\n      <th>2</th>\n      <td>F</td>\n      <td>15</td>\n      <td>U</td>\n      <td>2</td>\n      <td>3</td>\n      <td>10</td>\n      <td>7</td>\n      <td>8</td>\n      <td>10</td>\n    </tr>\n    <tr>\n      <th>3</th>\n      <td>F</td>\n      <td>15</td>\n      <td>U</td>\n      <td>3</td>\n      <td>2</td>\n      <td>2</td>\n      <td>15</td>\n      <td>14</td>\n      <td>15</td>\n    </tr>\n    <tr>\n      <th>4</th>\n      <td>F</td>\n      <td>16</td>\n      <td>U</td>\n      <td>2</td>\n      <td>3</td>\n      <td>4</td>\n      <td>6</td>\n      <td>10</td>\n      <td>10</td>\n    </tr>\n    <tr>\n      <th>...</th>\n      <td>...</td>\n      <td>...</td>\n      <td>...</td>\n      <td>...</td>\n      <td>...</td>\n      <td>...</td>\n      <td>...</td>\n      <td>...</td>\n      <td>...</td>\n    </tr>\n    <tr>\n      <th>390</th>\n      <td>M</td>\n      <td>20</td>\n      <td>U</td>\n      <td>2</td>\n      <td>5</td>\n      <td>11</td>\n      <td>9</td>\n      <td>9</td>\n      <td>9</td>\n    </tr>\n    <tr>\n      <th>391</th>\n      <td>M</td>\n      <td>17</td>\n      <td>U</td>\n      <td>1</td>\n      <td>4</td>\n      <td>3</td>\n      <td>14</td>\n      <td>16</td>\n      <td>16</td>\n    </tr>\n    <tr>\n      <th>392</th>\n      <td>M</td>\n      <td>21</td>\n      <td>R</td>\n      <td>1</td>\n      <td>5</td>\n      <td>3</td>\n      <td>10</td>\n      <td>8</td>\n      <td>7</td>\n    </tr>\n    <tr>\n      <th>393</th>\n      <td>M</td>\n      <td>18</td>\n      <td>R</td>\n      <td>1</td>\n      <td>4</td>\n      <td>0</td>\n      <td>11</td>\n      <td>12</td>\n      <td>10</td>\n    </tr>\n    <tr>\n      <th>394</th>\n      <td>M</td>\n      <td>19</td>\n      <td>U</td>\n      <td>1</td>\n      <td>2</td>\n      <td>5</td>\n      <td>8</td>\n      <td>9</td>\n      <td>9</td>\n    </tr>\n  </tbody>\n</table>\n<p>395 rows × 9 columns</p>\n</div>"
          },
          "metadata": {}
        }
      ],
      "execution_count": 17,
      "metadata": {
        "jupyter": {
          "source_hidden": false,
          "outputs_hidden": false
        },
        "nteract": {
          "transient": {
            "deleting": false
          }
        },
        "gather": {
          "logged": 1667674830456
        }
      }
    },
    {
      "cell_type": "code",
      "source": [
        "label_y"
      ],
      "outputs": [
        {
          "output_type": "execute_result",
          "execution_count": 18,
          "data": {
            "text/plain": "0      0\n1      0\n2      0\n3      0\n4      0\n      ..\n390    1\n391    1\n392    1\n393    1\n394    1\nName: school, Length: 395, dtype: int64"
          },
          "metadata": {}
        }
      ],
      "execution_count": 18,
      "metadata": {
        "jupyter": {
          "source_hidden": false,
          "outputs_hidden": false
        },
        "nteract": {
          "transient": {
            "deleting": false
          }
        },
        "gather": {
          "logged": 1667674837423
        }
      }
    },
    {
      "cell_type": "markdown",
      "source": [
        "## Tratamento das Variáveis Categóricas e Numéricas"
      ],
      "metadata": {
        "nteract": {
          "transient": {
            "deleting": false
          }
        }
      }
    },
    {
      "cell_type": "code",
      "source": [
        "var_categoricas = ['sex','address']\r\n",
        "features_x_categoricas = pd.get_dummies(estudantes[var_categoricas])\r\n",
        "features_x_categoricas"
      ],
      "outputs": [
        {
          "output_type": "execute_result",
          "execution_count": 19,
          "data": {
            "text/plain": "     sex_F  sex_M  address_R  address_U\n0        1      0          0          1\n1        1      0          0          1\n2        1      0          0          1\n3        1      0          0          1\n4        1      0          0          1\n..     ...    ...        ...        ...\n390      0      1          0          1\n391      0      1          0          1\n392      0      1          1          0\n393      0      1          1          0\n394      0      1          0          1\n\n[395 rows x 4 columns]",
            "text/html": "<div>\n<style scoped>\n    .dataframe tbody tr th:only-of-type {\n        vertical-align: middle;\n    }\n\n    .dataframe tbody tr th {\n        vertical-align: top;\n    }\n\n    .dataframe thead th {\n        text-align: right;\n    }\n</style>\n<table border=\"1\" class=\"dataframe\">\n  <thead>\n    <tr style=\"text-align: right;\">\n      <th></th>\n      <th>sex_F</th>\n      <th>sex_M</th>\n      <th>address_R</th>\n      <th>address_U</th>\n    </tr>\n  </thead>\n  <tbody>\n    <tr>\n      <th>0</th>\n      <td>1</td>\n      <td>0</td>\n      <td>0</td>\n      <td>1</td>\n    </tr>\n    <tr>\n      <th>1</th>\n      <td>1</td>\n      <td>0</td>\n      <td>0</td>\n      <td>1</td>\n    </tr>\n    <tr>\n      <th>2</th>\n      <td>1</td>\n      <td>0</td>\n      <td>0</td>\n      <td>1</td>\n    </tr>\n    <tr>\n      <th>3</th>\n      <td>1</td>\n      <td>0</td>\n      <td>0</td>\n      <td>1</td>\n    </tr>\n    <tr>\n      <th>4</th>\n      <td>1</td>\n      <td>0</td>\n      <td>0</td>\n      <td>1</td>\n    </tr>\n    <tr>\n      <th>...</th>\n      <td>...</td>\n      <td>...</td>\n      <td>...</td>\n      <td>...</td>\n    </tr>\n    <tr>\n      <th>390</th>\n      <td>0</td>\n      <td>1</td>\n      <td>0</td>\n      <td>1</td>\n    </tr>\n    <tr>\n      <th>391</th>\n      <td>0</td>\n      <td>1</td>\n      <td>0</td>\n      <td>1</td>\n    </tr>\n    <tr>\n      <th>392</th>\n      <td>0</td>\n      <td>1</td>\n      <td>1</td>\n      <td>0</td>\n    </tr>\n    <tr>\n      <th>393</th>\n      <td>0</td>\n      <td>1</td>\n      <td>1</td>\n      <td>0</td>\n    </tr>\n    <tr>\n      <th>394</th>\n      <td>0</td>\n      <td>1</td>\n      <td>0</td>\n      <td>1</td>\n    </tr>\n  </tbody>\n</table>\n<p>395 rows × 4 columns</p>\n</div>"
          },
          "metadata": {}
        }
      ],
      "execution_count": 19,
      "metadata": {
        "jupyter": {
          "source_hidden": false,
          "outputs_hidden": false
        },
        "nteract": {
          "transient": {
            "deleting": false
          }
        },
        "gather": {
          "logged": 1667674893286
        }
      }
    },
    {
      "cell_type": "code",
      "source": [
        "var_numericas = ['age','studytime','freetime','absences','G1','G2','G3']\r\n",
        "features_x_num = estudantes[var_numericas]\r\n",
        "features_x_num"
      ],
      "outputs": [
        {
          "output_type": "execute_result",
          "execution_count": 20,
          "data": {
            "text/plain": "     age  studytime  freetime  absences  G1  G2  G3\n0     18          2         3         6   5   6   6\n1     17          2         3         4   5   5   6\n2     15          2         3        10   7   8  10\n3     15          3         2         2  15  14  15\n4     16          2         3         4   6  10  10\n..   ...        ...       ...       ...  ..  ..  ..\n390   20          2         5        11   9   9   9\n391   17          1         4         3  14  16  16\n392   21          1         5         3  10   8   7\n393   18          1         4         0  11  12  10\n394   19          1         2         5   8   9   9\n\n[395 rows x 7 columns]",
            "text/html": "<div>\n<style scoped>\n    .dataframe tbody tr th:only-of-type {\n        vertical-align: middle;\n    }\n\n    .dataframe tbody tr th {\n        vertical-align: top;\n    }\n\n    .dataframe thead th {\n        text-align: right;\n    }\n</style>\n<table border=\"1\" class=\"dataframe\">\n  <thead>\n    <tr style=\"text-align: right;\">\n      <th></th>\n      <th>age</th>\n      <th>studytime</th>\n      <th>freetime</th>\n      <th>absences</th>\n      <th>G1</th>\n      <th>G2</th>\n      <th>G3</th>\n    </tr>\n  </thead>\n  <tbody>\n    <tr>\n      <th>0</th>\n      <td>18</td>\n      <td>2</td>\n      <td>3</td>\n      <td>6</td>\n      <td>5</td>\n      <td>6</td>\n      <td>6</td>\n    </tr>\n    <tr>\n      <th>1</th>\n      <td>17</td>\n      <td>2</td>\n      <td>3</td>\n      <td>4</td>\n      <td>5</td>\n      <td>5</td>\n      <td>6</td>\n    </tr>\n    <tr>\n      <th>2</th>\n      <td>15</td>\n      <td>2</td>\n      <td>3</td>\n      <td>10</td>\n      <td>7</td>\n      <td>8</td>\n      <td>10</td>\n    </tr>\n    <tr>\n      <th>3</th>\n      <td>15</td>\n      <td>3</td>\n      <td>2</td>\n      <td>2</td>\n      <td>15</td>\n      <td>14</td>\n      <td>15</td>\n    </tr>\n    <tr>\n      <th>4</th>\n      <td>16</td>\n      <td>2</td>\n      <td>3</td>\n      <td>4</td>\n      <td>6</td>\n      <td>10</td>\n      <td>10</td>\n    </tr>\n    <tr>\n      <th>...</th>\n      <td>...</td>\n      <td>...</td>\n      <td>...</td>\n      <td>...</td>\n      <td>...</td>\n      <td>...</td>\n      <td>...</td>\n    </tr>\n    <tr>\n      <th>390</th>\n      <td>20</td>\n      <td>2</td>\n      <td>5</td>\n      <td>11</td>\n      <td>9</td>\n      <td>9</td>\n      <td>9</td>\n    </tr>\n    <tr>\n      <th>391</th>\n      <td>17</td>\n      <td>1</td>\n      <td>4</td>\n      <td>3</td>\n      <td>14</td>\n      <td>16</td>\n      <td>16</td>\n    </tr>\n    <tr>\n      <th>392</th>\n      <td>21</td>\n      <td>1</td>\n      <td>5</td>\n      <td>3</td>\n      <td>10</td>\n      <td>8</td>\n      <td>7</td>\n    </tr>\n    <tr>\n      <th>393</th>\n      <td>18</td>\n      <td>1</td>\n      <td>4</td>\n      <td>0</td>\n      <td>11</td>\n      <td>12</td>\n      <td>10</td>\n    </tr>\n    <tr>\n      <th>394</th>\n      <td>19</td>\n      <td>1</td>\n      <td>2</td>\n      <td>5</td>\n      <td>8</td>\n      <td>9</td>\n      <td>9</td>\n    </tr>\n  </tbody>\n</table>\n<p>395 rows × 7 columns</p>\n</div>"
          },
          "metadata": {}
        }
      ],
      "execution_count": 20,
      "metadata": {
        "jupyter": {
          "source_hidden": false,
          "outputs_hidden": false
        },
        "nteract": {
          "transient": {
            "deleting": false
          }
        },
        "gather": {
          "logged": 1667674957464
        }
      }
    },
    {
      "cell_type": "code",
      "source": [
        "# JOIN dos dataframes\r\n",
        "estudantes_tratado = pd.concat([features_x_categoricas, features_x_num],axis = 1)\r\n",
        "estudantes_tratado"
      ],
      "outputs": [
        {
          "output_type": "execute_result",
          "execution_count": 21,
          "data": {
            "text/plain": "     sex_F  sex_M  address_R  address_U  age  studytime  freetime  absences  \\\n0        1      0          0          1   18          2         3         6   \n1        1      0          0          1   17          2         3         4   \n2        1      0          0          1   15          2         3        10   \n3        1      0          0          1   15          3         2         2   \n4        1      0          0          1   16          2         3         4   \n..     ...    ...        ...        ...  ...        ...       ...       ...   \n390      0      1          0          1   20          2         5        11   \n391      0      1          0          1   17          1         4         3   \n392      0      1          1          0   21          1         5         3   \n393      0      1          1          0   18          1         4         0   \n394      0      1          0          1   19          1         2         5   \n\n     G1  G2  G3  \n0     5   6   6  \n1     5   5   6  \n2     7   8  10  \n3    15  14  15  \n4     6  10  10  \n..   ..  ..  ..  \n390   9   9   9  \n391  14  16  16  \n392  10   8   7  \n393  11  12  10  \n394   8   9   9  \n\n[395 rows x 11 columns]",
            "text/html": "<div>\n<style scoped>\n    .dataframe tbody tr th:only-of-type {\n        vertical-align: middle;\n    }\n\n    .dataframe tbody tr th {\n        vertical-align: top;\n    }\n\n    .dataframe thead th {\n        text-align: right;\n    }\n</style>\n<table border=\"1\" class=\"dataframe\">\n  <thead>\n    <tr style=\"text-align: right;\">\n      <th></th>\n      <th>sex_F</th>\n      <th>sex_M</th>\n      <th>address_R</th>\n      <th>address_U</th>\n      <th>age</th>\n      <th>studytime</th>\n      <th>freetime</th>\n      <th>absences</th>\n      <th>G1</th>\n      <th>G2</th>\n      <th>G3</th>\n    </tr>\n  </thead>\n  <tbody>\n    <tr>\n      <th>0</th>\n      <td>1</td>\n      <td>0</td>\n      <td>0</td>\n      <td>1</td>\n      <td>18</td>\n      <td>2</td>\n      <td>3</td>\n      <td>6</td>\n      <td>5</td>\n      <td>6</td>\n      <td>6</td>\n    </tr>\n    <tr>\n      <th>1</th>\n      <td>1</td>\n      <td>0</td>\n      <td>0</td>\n      <td>1</td>\n      <td>17</td>\n      <td>2</td>\n      <td>3</td>\n      <td>4</td>\n      <td>5</td>\n      <td>5</td>\n      <td>6</td>\n    </tr>\n    <tr>\n      <th>2</th>\n      <td>1</td>\n      <td>0</td>\n      <td>0</td>\n      <td>1</td>\n      <td>15</td>\n      <td>2</td>\n      <td>3</td>\n      <td>10</td>\n      <td>7</td>\n      <td>8</td>\n      <td>10</td>\n    </tr>\n    <tr>\n      <th>3</th>\n      <td>1</td>\n      <td>0</td>\n      <td>0</td>\n      <td>1</td>\n      <td>15</td>\n      <td>3</td>\n      <td>2</td>\n      <td>2</td>\n      <td>15</td>\n      <td>14</td>\n      <td>15</td>\n    </tr>\n    <tr>\n      <th>4</th>\n      <td>1</td>\n      <td>0</td>\n      <td>0</td>\n      <td>1</td>\n      <td>16</td>\n      <td>2</td>\n      <td>3</td>\n      <td>4</td>\n      <td>6</td>\n      <td>10</td>\n      <td>10</td>\n    </tr>\n    <tr>\n      <th>...</th>\n      <td>...</td>\n      <td>...</td>\n      <td>...</td>\n      <td>...</td>\n      <td>...</td>\n      <td>...</td>\n      <td>...</td>\n      <td>...</td>\n      <td>...</td>\n      <td>...</td>\n      <td>...</td>\n    </tr>\n    <tr>\n      <th>390</th>\n      <td>0</td>\n      <td>1</td>\n      <td>0</td>\n      <td>1</td>\n      <td>20</td>\n      <td>2</td>\n      <td>5</td>\n      <td>11</td>\n      <td>9</td>\n      <td>9</td>\n      <td>9</td>\n    </tr>\n    <tr>\n      <th>391</th>\n      <td>0</td>\n      <td>1</td>\n      <td>0</td>\n      <td>1</td>\n      <td>17</td>\n      <td>1</td>\n      <td>4</td>\n      <td>3</td>\n      <td>14</td>\n      <td>16</td>\n      <td>16</td>\n    </tr>\n    <tr>\n      <th>392</th>\n      <td>0</td>\n      <td>1</td>\n      <td>1</td>\n      <td>0</td>\n      <td>21</td>\n      <td>1</td>\n      <td>5</td>\n      <td>3</td>\n      <td>10</td>\n      <td>8</td>\n      <td>7</td>\n    </tr>\n    <tr>\n      <th>393</th>\n      <td>0</td>\n      <td>1</td>\n      <td>1</td>\n      <td>0</td>\n      <td>18</td>\n      <td>1</td>\n      <td>4</td>\n      <td>0</td>\n      <td>11</td>\n      <td>12</td>\n      <td>10</td>\n    </tr>\n    <tr>\n      <th>394</th>\n      <td>0</td>\n      <td>1</td>\n      <td>0</td>\n      <td>1</td>\n      <td>19</td>\n      <td>1</td>\n      <td>2</td>\n      <td>5</td>\n      <td>8</td>\n      <td>9</td>\n      <td>9</td>\n    </tr>\n  </tbody>\n</table>\n<p>395 rows × 11 columns</p>\n</div>"
          },
          "metadata": {}
        }
      ],
      "execution_count": 21,
      "metadata": {
        "jupyter": {
          "source_hidden": false,
          "outputs_hidden": false
        },
        "nteract": {
          "transient": {
            "deleting": false
          }
        },
        "gather": {
          "logged": 1667674992150
        }
      }
    },
    {
      "cell_type": "code",
      "source": [
        "label_y"
      ],
      "outputs": [
        {
          "output_type": "execute_result",
          "execution_count": 22,
          "data": {
            "text/plain": "0      0\n1      0\n2      0\n3      0\n4      0\n      ..\n390    1\n391    1\n392    1\n393    1\n394    1\nName: school, Length: 395, dtype: int64"
          },
          "metadata": {}
        }
      ],
      "execution_count": 22,
      "metadata": {
        "jupyter": {
          "source_hidden": false,
          "outputs_hidden": false
        },
        "nteract": {
          "transient": {
            "deleting": false
          }
        },
        "gather": {
          "logged": 1667675022604
        }
      }
    },
    {
      "cell_type": "markdown",
      "source": [
        "## Divisão entre Dados de Treino e Teste"
      ],
      "metadata": {
        "nteract": {
          "transient": {
            "deleting": false
          }
        }
      }
    },
    {
      "cell_type": "code",
      "source": [
        "x_train, x_test, y_train, y_teste = train_test_split(estudantes_tratado,label_y,test_size = 0.30,random_state = 7)"
      ],
      "outputs": [],
      "execution_count": 23,
      "metadata": {
        "jupyter": {
          "source_hidden": false,
          "outputs_hidden": false
        },
        "nteract": {
          "transient": {
            "deleting": false
          }
        },
        "gather": {
          "logged": 1667675057877
        }
      }
    },
    {
      "cell_type": "code",
      "source": [
        "print('Tamanho total: ',len(estudantes))\r\n",
        "print('Tamanho total do TREINAMENTO: ',len(x_train))\r\n",
        "print('Tamanho total do TESTE: ',len(x_test))"
      ],
      "outputs": [
        {
          "output_type": "stream",
          "name": "stdout",
          "text": "Tamanho total:  395\nTamanho total do TREINAMENTO:  276\nTamanho total do TESTE:  119\n"
        }
      ],
      "execution_count": 24,
      "metadata": {
        "jupyter": {
          "source_hidden": false,
          "outputs_hidden": false
        },
        "nteract": {
          "transient": {
            "deleting": false
          }
        },
        "gather": {
          "logged": 1667675277435
        }
      }
    },
    {
      "cell_type": "code",
      "source": [
        "print('Tamanho total do TREINAMENTO: ',len(x_train))\r\n",
        "print('Qtde de REGISTROS 0 (GP): ',len(y_train.loc[lambda x : x == 0]))\r\n",
        "print('Qtde de REGISTROS 1 (MS): ',len(y_train.loc[lambda x : x == 1]))\r\n",
        "\r\n",
        "print('Percentual de Qtde de REGISTROS 0 (GP) %: ',(len(y_train.loc[lambda x : x == 0])/len(y_train))*100)\r\n",
        "print('Percentual de Qtde de REGISTROS 1 (MS) %: ',(len(y_train.loc[lambda x : x == 1])/len(y_train))*100)"
      ],
      "outputs": [
        {
          "output_type": "stream",
          "name": "stdout",
          "text": "Tamanho total do TREINAMENTO:  276\nQtde de REGISTROS 0 (GP):  246\nQtde de REGISTROS 1 (MS):  30\nPercentual de Qtde de REGISTROS 0 (GP) %:  89.13043478260869\nPercentual de Qtde de REGISTROS 1 (MS) %:  10.869565217391305\n"
        }
      ],
      "execution_count": 25,
      "metadata": {
        "jupyter": {
          "source_hidden": false,
          "outputs_hidden": false
        },
        "nteract": {
          "transient": {
            "deleting": false
          }
        },
        "gather": {
          "logged": 1667675310236
        }
      }
    },
    {
      "cell_type": "code",
      "source": [
        "print('Tamanho total do TESTE: ',len(x_test))\r\n",
        "print('Qtde de REGISTROS 0 (GP): ',len(y_teste.loc[lambda x : x == 0]))\r\n",
        "print('Qtde de REGISTROS 1 (MS): ',len(y_teste.loc[lambda x : x == 1]))\r\n",
        "\r\n",
        "print('Percentual de Qtde de REGISTROS 0 (GP) %: ',(len(y_teste.loc[lambda x : x == 0])/len(y_teste))*100)\r\n",
        "print('Percentual de Qtde de REGISTROS 1 (MS) %: ',(len(y_teste.loc[lambda x : x == 1])/len(y_teste))*100)"
      ],
      "outputs": [
        {
          "output_type": "stream",
          "name": "stdout",
          "text": "Tamanho total do TESTE:  119\nQtde de REGISTROS 0 (GP):  103\nQtde de REGISTROS 1 (MS):  16\nPercentual de Qtde de REGISTROS 0 (GP) %:  86.5546218487395\nPercentual de Qtde de REGISTROS 1 (MS) %:  13.445378151260504\n"
        }
      ],
      "execution_count": 26,
      "metadata": {
        "jupyter": {
          "source_hidden": false,
          "outputs_hidden": false
        },
        "nteract": {
          "transient": {
            "deleting": false
          }
        },
        "gather": {
          "logged": 1667675375743
        }
      }
    },
    {
      "cell_type": "markdown",
      "source": [
        "## Treinamento do Algoritmo"
      ],
      "metadata": {
        "nteract": {
          "transient": {
            "deleting": false
          }
        }
      }
    },
    {
      "cell_type": "code",
      "source": [
        "clf = RandomForestClassifier(random_state=7)\r\n",
        "clf = clf.fit(x_train, y_train)"
      ],
      "outputs": [],
      "execution_count": 27,
      "metadata": {
        "jupyter": {
          "source_hidden": false,
          "outputs_hidden": false
        },
        "nteract": {
          "transient": {
            "deleting": false
          }
        },
        "gather": {
          "logged": 1667675435901
        }
      }
    },
    {
      "cell_type": "markdown",
      "source": [
        "## Previsões e Avaliação de Resultados"
      ],
      "metadata": {
        "nteract": {
          "transient": {
            "deleting": false
          }
        }
      }
    },
    {
      "cell_type": "code",
      "source": [
        "previsoes = clf.predict(x_test)"
      ],
      "outputs": [],
      "execution_count": 28,
      "metadata": {
        "jupyter": {
          "source_hidden": false,
          "outputs_hidden": false
        },
        "nteract": {
          "transient": {
            "deleting": false
          }
        },
        "gather": {
          "logged": 1667675438678
        }
      }
    },
    {
      "cell_type": "code",
      "source": [
        "print('',classification_report(y_teste, previsoes))"
      ],
      "outputs": [
        {
          "output_type": "stream",
          "name": "stdout",
          "text": "               precision    recall  f1-score   support\n\n           0       0.89      0.98      0.94       103\n           1       0.67      0.25      0.36        16\n\n    accuracy                           0.88       119\n   macro avg       0.78      0.62      0.65       119\nweighted avg       0.86      0.88      0.86       119\n\n"
        }
      ],
      "execution_count": 29,
      "metadata": {
        "jupyter": {
          "source_hidden": false,
          "outputs_hidden": false
        },
        "nteract": {
          "transient": {
            "deleting": false
          }
        },
        "gather": {
          "logged": 1667675445617
        }
      }
    },
    {
      "cell_type": "markdown",
      "source": [
        "## Técnica de REAMOSTRAGEM ALEATÓRIA: OVERSAMPLING e UNDERSAMPLING"
      ],
      "metadata": {
        "nteract": {
          "transient": {
            "deleting": false
          }
        }
      }
    },
    {
      "cell_type": "markdown",
      "source": [
        "Obs: aplique o balanceamente somente nos dados de TREINAMENTO, jamais de TESTE. </br> \r\n",
        "<p> OVER-SAMPLING. Vantagem: nenhuma informação é perdida. Desvantagem: o custo computacional aumenta e pode piorar o desempenho do algoritmo para as classes minoritárias. </br> \r\n",
        "<p> UNDER-SAMPLING. Vantagem: reduz o tempo computacional. Desvantagem: descarta informações da classe minoritária o que pode levar uma performance inferior para as predições dela. </br> \r\n",
        "\r\n",
        "Lembre-se: \"NO FREE LUNCH\""
      ],
      "metadata": {
        "nteract": {
          "transient": {
            "deleting": false
          }
        }
      }
    },
    {
      "cell_type": "markdown",
      "source": [
        "## Teste 1: Avaliando o Modelo aplicando OVERSAMPLING"
      ],
      "metadata": {
        "nteract": {
          "transient": {
            "deleting": false
          }
        }
      }
    },
    {
      "cell_type": "code",
      "source": [
        "ros = RandomOverSampler() \r\n",
        "# reamostrando X, y \r\n",
        "X_reamostrado, y_reamostrado = ros.fit_resample(x_train,y_train)"
      ],
      "outputs": [],
      "execution_count": 30,
      "metadata": {
        "jupyter": {
          "source_hidden": false,
          "outputs_hidden": false
        },
        "nteract": {
          "transient": {
            "deleting": false
          }
        },
        "gather": {
          "logged": 1667677861233
        }
      }
    },
    {
      "cell_type": "code",
      "source": [
        "Counter(y_reamostrado)"
      ],
      "outputs": [
        {
          "output_type": "execute_result",
          "execution_count": 31,
          "data": {
            "text/plain": "Counter({0: 246, 1: 246})"
          },
          "metadata": {}
        }
      ],
      "execution_count": 31,
      "metadata": {
        "jupyter": {
          "source_hidden": false,
          "outputs_hidden": false
        },
        "nteract": {
          "transient": {
            "deleting": false
          }
        },
        "gather": {
          "logged": 1667677869809
        }
      }
    },
    {
      "cell_type": "code",
      "source": [
        "# Avaliar modelo com a nova distribuição desses dados\r\n",
        "clf = RandomForestClassifier(random_state=7)\r\n",
        "clf = clf.fit(X_reamostrado, y_reamostrado)"
      ],
      "outputs": [],
      "execution_count": 32,
      "metadata": {
        "jupyter": {
          "source_hidden": false,
          "outputs_hidden": false
        },
        "nteract": {
          "transient": {
            "deleting": false
          }
        },
        "gather": {
          "logged": 1667677907989
        }
      }
    },
    {
      "cell_type": "code",
      "source": [
        "previsoes = clf.predict(x_test)"
      ],
      "outputs": [],
      "execution_count": 33,
      "metadata": {
        "jupyter": {
          "source_hidden": false,
          "outputs_hidden": false
        },
        "nteract": {
          "transient": {
            "deleting": false
          }
        },
        "gather": {
          "logged": 1667677910157
        }
      }
    },
    {
      "cell_type": "code",
      "source": [
        "#0       0.89      0.98      0.94       103\r\n",
        "#1       0.67      0.25      0.36        16"
      ],
      "outputs": [],
      "execution_count": null,
      "metadata": {
        "jupyter": {
          "source_hidden": false,
          "outputs_hidden": false
        },
        "nteract": {
          "transient": {
            "deleting": false
          }
        }
      }
    },
    {
      "cell_type": "code",
      "source": [
        "print('',classification_report(y_teste, previsoes))"
      ],
      "outputs": [
        {
          "output_type": "stream",
          "name": "stdout",
          "text": "               precision    recall  f1-score   support\n\n           0       0.90      0.96      0.93       103\n           1       0.56      0.31      0.40        16\n\n    accuracy                           0.87       119\n   macro avg       0.73      0.64      0.66       119\nweighted avg       0.85      0.87      0.86       119\n\n"
        }
      ],
      "execution_count": 34,
      "metadata": {
        "jupyter": {
          "source_hidden": false,
          "outputs_hidden": false
        },
        "nteract": {
          "transient": {
            "deleting": false
          }
        },
        "gather": {
          "logged": 1667677911974
        }
      }
    },
    {
      "cell_type": "markdown",
      "source": [
        "## Teste 2: Avaliando o Modelo aplicando UNDERSAMPLE"
      ],
      "metadata": {
        "nteract": {
          "transient": {
            "deleting": false
          }
        }
      }
    },
    {
      "cell_type": "code",
      "source": [
        "ros = RandomUnderSampler() \r\n",
        "# reamostrando X, y \r\n",
        "X_reamostrado, y_reamostrado = ros.fit_resample(x_train,y_train)"
      ],
      "outputs": [],
      "execution_count": 35,
      "metadata": {
        "jupyter": {
          "source_hidden": false,
          "outputs_hidden": false
        },
        "nteract": {
          "transient": {
            "deleting": false
          }
        },
        "gather": {
          "logged": 1667678249867
        }
      }
    },
    {
      "cell_type": "code",
      "source": [
        "Counter(y_reamostrado)"
      ],
      "outputs": [
        {
          "output_type": "execute_result",
          "execution_count": 39,
          "data": {
            "text/plain": "Counter({0: 30, 1: 30})"
          },
          "metadata": {}
        }
      ],
      "execution_count": 39,
      "metadata": {
        "jupyter": {
          "source_hidden": false,
          "outputs_hidden": false
        },
        "nteract": {
          "transient": {
            "deleting": false
          }
        },
        "gather": {
          "logged": 1667678329572
        }
      }
    },
    {
      "cell_type": "code",
      "source": [
        "# Avaliar modelo com a nova distribuição desses dados\r\n",
        "clf = RandomForestClassifier(random_state=7)\r\n",
        "clf = clf.fit(X_reamostrado, y_reamostrado)"
      ],
      "outputs": [],
      "execution_count": 36,
      "metadata": {
        "jupyter": {
          "source_hidden": false,
          "outputs_hidden": false
        },
        "nteract": {
          "transient": {
            "deleting": false
          }
        },
        "gather": {
          "logged": 1667678252503
        }
      }
    },
    {
      "cell_type": "code",
      "source": [
        "previsoes = clf.predict(x_test)"
      ],
      "outputs": [],
      "execution_count": 37,
      "metadata": {
        "jupyter": {
          "source_hidden": false,
          "outputs_hidden": false
        },
        "nteract": {
          "transient": {
            "deleting": false
          }
        },
        "gather": {
          "logged": 1667678263609
        }
      }
    },
    {
      "cell_type": "code",
      "source": [
        "#0       0.89      0.98      0.94       103\r\n",
        "#1       0.67      0.25      0.36        16"
      ],
      "outputs": [],
      "execution_count": null,
      "metadata": {
        "jupyter": {
          "source_hidden": false,
          "outputs_hidden": false
        },
        "nteract": {
          "transient": {
            "deleting": false
          }
        }
      }
    },
    {
      "cell_type": "code",
      "source": [
        "print('',classification_report(y_teste, previsoes))"
      ],
      "outputs": [
        {
          "output_type": "stream",
          "name": "stdout",
          "text": "               precision    recall  f1-score   support\n\n           0       1.00      0.75      0.86       103\n           1       0.38      1.00      0.55        16\n\n    accuracy                           0.78       119\n   macro avg       0.69      0.87      0.70       119\nweighted avg       0.92      0.78      0.81       119\n\n"
        }
      ],
      "execution_count": 38,
      "metadata": {
        "jupyter": {
          "source_hidden": false,
          "outputs_hidden": false
        },
        "nteract": {
          "transient": {
            "deleting": false
          }
        },
        "gather": {
          "logged": 1667678265033
        }
      }
    },
    {
      "cell_type": "markdown",
      "source": [
        "## Teste 3: Avaliando ambas as técnicas"
      ],
      "metadata": {
        "nteract": {
          "transient": {
            "deleting": false
          }
        }
      }
    },
    {
      "cell_type": "code",
      "source": [
        "over = RandomOverSampler(sampling_strategy=0.5) # razão entre num_amostra_classe_min / num_amostra_classe_maj após reamostragem. \r\n",
        "under = RandomUnderSampler(sampling_strategy=0.8) # razão entre num_amostra_classe_min / num_amostra_classe_maj após reamostragem. \r\n",
        "\r\n",
        "X_reamostrado_over, y_reamostrado_over = over.fit_resample(x_train,y_train)\r\n",
        "print(f\"Oversampled: {Counter(y_reamostrado_over)}\")\r\n"
      ],
      "outputs": [
        {
          "output_type": "stream",
          "name": "stdout",
          "text": "Oversampled: Counter({0: 246, 1: 123})\n"
        }
      ],
      "execution_count": 40,
      "metadata": {
        "jupyter": {
          "source_hidden": false,
          "outputs_hidden": false
        },
        "nteract": {
          "transient": {
            "deleting": false
          }
        },
        "gather": {
          "logged": 1667678774051
        }
      }
    },
    {
      "cell_type": "code",
      "source": [
        "X_combined_sampling, y_combined_sampling = under.fit_resample(X_reamostrado_over, y_reamostrado_over)\r\n",
        "print(f\"Oversampled: {Counter(y_combined_sampling)}\")"
      ],
      "outputs": [
        {
          "output_type": "stream",
          "name": "stdout",
          "text": "Oversampled: Counter({0: 153, 1: 123})\n"
        }
      ],
      "execution_count": 41,
      "metadata": {
        "jupyter": {
          "source_hidden": false,
          "outputs_hidden": false
        },
        "nteract": {
          "transient": {
            "deleting": false
          }
        },
        "gather": {
          "logged": 1667678799146
        }
      }
    },
    {
      "cell_type": "code",
      "source": [
        "# Avaliar modelo com a nova distribuição desses dados\r\n",
        "clf = RandomForestClassifier(random_state=7)\r\n",
        "clf = clf.fit(X_combined_sampling, y_combined_sampling)"
      ],
      "outputs": [],
      "execution_count": 42,
      "metadata": {
        "jupyter": {
          "source_hidden": false,
          "outputs_hidden": false
        },
        "nteract": {
          "transient": {
            "deleting": false
          }
        },
        "gather": {
          "logged": 1667678809438
        }
      }
    },
    {
      "cell_type": "code",
      "source": [
        "previsoes = clf.predict(x_test)"
      ],
      "outputs": [],
      "execution_count": 43,
      "metadata": {
        "jupyter": {
          "source_hidden": false,
          "outputs_hidden": false
        },
        "nteract": {
          "transient": {
            "deleting": false
          }
        },
        "gather": {
          "logged": 1667678811079
        }
      }
    },
    {
      "cell_type": "code",
      "source": [
        "#0       1.00      0.75      0.86       103\r\n",
        "#1       0.38      1.00      0.55        16"
      ],
      "outputs": [],
      "execution_count": null,
      "metadata": {
        "jupyter": {
          "source_hidden": false,
          "outputs_hidden": false
        },
        "nteract": {
          "transient": {
            "deleting": false
          }
        }
      }
    },
    {
      "cell_type": "code",
      "source": [
        "print('',classification_report(y_teste, previsoes))"
      ],
      "outputs": [
        {
          "output_type": "stream",
          "name": "stdout",
          "text": "               precision    recall  f1-score   support\n\n           0       0.92      0.94      0.93       103\n           1       0.54      0.44      0.48        16\n\n    accuracy                           0.87       119\n   macro avg       0.73      0.69      0.71       119\nweighted avg       0.86      0.87      0.87       119\n\n"
        }
      ],
      "execution_count": 44,
      "metadata": {
        "jupyter": {
          "source_hidden": false,
          "outputs_hidden": false
        },
        "nteract": {
          "transient": {
            "deleting": false
          }
        },
        "gather": {
          "logged": 1667678812744
        }
      }
    }
  ],
  "metadata": {
    "kernelspec": {
      "name": "python38-azureml",
      "language": "python",
      "display_name": "Python 3.8 - AzureML"
    },
    "language_info": {
      "name": "python",
      "version": "3.8.5",
      "mimetype": "text/x-python",
      "codemirror_mode": {
        "name": "ipython",
        "version": 3
      },
      "pygments_lexer": "ipython3",
      "nbconvert_exporter": "python",
      "file_extension": ".py"
    },
    "nteract": {
      "version": "nteract-front-end@1.0.0"
    },
    "kernel_info": {
      "name": "python38-azureml"
    },
    "microsoft": {
      "host": {
        "AzureML": {
          "notebookHasBeenCompleted": true
        }
      }
    }
  },
  "nbformat": 4,
  "nbformat_minor": 2
}