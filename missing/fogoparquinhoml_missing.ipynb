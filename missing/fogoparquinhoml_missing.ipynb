{
  "cells": [
    {
      "cell_type": "markdown",
      "source": [
        "<img src=\"imagens/logo_oficial.jpg\"/>"
      ],
      "metadata": {
        "nteract": {
          "transient": {
            "deleting": false
          }
        }
      }
    },
    {
      "cell_type": "markdown",
      "source": [
        "# Série Fogo no Parquinho: Valores Ausentes (Missing)"
      ],
      "metadata": {
        "nteract": {
          "transient": {
            "deleting": false
          }
        }
      }
    },
    {
      "cell_type": "markdown",
      "source": [
        "### Importações"
      ],
      "metadata": {
        "nteract": {
          "transient": {
            "deleting": false
          }
        }
      }
    },
    {
      "cell_type": "code",
      "source": [
        "# Pacotes Python aqui. \r\n",
        "import pandas as pd\r\n",
        "import statistics as st\r\n",
        "from sklearn import tree\r\n",
        "from sklearn.model_selection import train_test_split\r\n",
        "from sklearn.metrics import r2_score,mean_squared_error"
      ],
      "outputs": [],
      "execution_count": null,
      "metadata": {
        "jupyter": {
          "source_hidden": false,
          "outputs_hidden": false
        },
        "nteract": {
          "transient": {
            "deleting": false
          }
        },
        "gather": {
          "logged": 1666224032996
        }
      }
    },
    {
      "cell_type": "markdown",
      "source": [
        "## Declarações de Funções"
      ],
      "metadata": {
        "nteract": {
          "transient": {
            "deleting": false
          }
        }
      }
    },
    {
      "cell_type": "code",
      "source": [
        "def treinar_avaliar_resultados(features_x,label_y):\r\n",
        "    x_train, x_test, y_train, y_teste = train_test_split(features_x,label_y,test_size = 0.20,random_state = 7)\r\n",
        "    print('-------------------------------------------------------------------------------------')\r\n",
        "    print('Total da AMOSTRA: ',len(features_x))\r\n",
        "    print('Total da AMOSTRA de TREINAMENTO: ',len(x_train))\r\n",
        "    print('Total da AMOSTRA de TESTE: ',len(x_test))\r\n",
        "    print('-------------------------------------------------------------------------------------')\r\n",
        "    print('Iniciando o treinamento do modelo. ')\r\n",
        "    clf = tree.DecisionTreeRegressor(random_state = 7)\r\n",
        "    clf = clf.fit(x_train, y_train) \r\n",
        "    print('Modelo treinado: ', type(clf))\r\n",
        "    print('-------------------------------------------------------------------------------------')\r\n",
        "    print('Avaliação das métricas do modelo. ')\r\n",
        "    previsoes = clf.predict(x_test)\r\n",
        "    print('R2 é : ',r2_score(y_teste, previsoes))\r\n",
        "    print('Média de erros ao quadrado é: ',mean_squared_error(y_teste, previsoes))"
      ],
      "outputs": [],
      "execution_count": 117,
      "metadata": {
        "jupyter": {
          "source_hidden": false,
          "outputs_hidden": false
        },
        "nteract": {
          "transient": {
            "deleting": false
          }
        },
        "gather": {
          "logged": 1666234116392
        }
      }
    },
    {
      "cell_type": "markdown",
      "source": [
        "## Leitura de Base de Dados"
      ],
      "metadata": {
        "nteract": {
          "transient": {
            "deleting": false
          }
        }
      }
    },
    {
      "cell_type": "code",
      "source": [
        "pokemons = pd.read_csv('bases/Pokemon.csv')"
      ],
      "outputs": [],
      "execution_count": 91,
      "metadata": {
        "jupyter": {
          "source_hidden": false,
          "outputs_hidden": false
        },
        "nteract": {
          "transient": {
            "deleting": false
          }
        },
        "gather": {
          "logged": 1666232222671
        }
      }
    },
    {
      "cell_type": "code",
      "source": [
        "print('Tamanho total LINHAS: ',len(pokemons))"
      ],
      "outputs": [
        {
          "output_type": "stream",
          "name": "stdout",
          "text": "Tamanho total LINHAS:  800\n"
        }
      ],
      "execution_count": 92,
      "metadata": {
        "jupyter": {
          "source_hidden": false,
          "outputs_hidden": false
        },
        "nteract": {
          "transient": {
            "deleting": false
          }
        },
        "gather": {
          "logged": 1666232228347
        }
      }
    },
    {
      "cell_type": "code",
      "source": [
        "# Visualizar o tipo de cada dado e nome da coluna\r\n",
        "pokemons.dtypes"
      ],
      "outputs": [
        {
          "output_type": "execute_result",
          "execution_count": 93,
          "data": {
            "text/plain": "#              int64\nName          object\nType 1        object\nType 2        object\nTotal          int64\nHP             int64\nAttack         int64\nDefense        int64\nSp. Atk        int64\nSp. Def        int64\nSpeed          int64\nGeneration     int64\nLegendary       bool\ndtype: object"
          },
          "metadata": {}
        }
      ],
      "execution_count": 93,
      "metadata": {
        "jupyter": {
          "source_hidden": false,
          "outputs_hidden": false
        },
        "nteract": {
          "transient": {
            "deleting": false
          }
        },
        "gather": {
          "logged": 1666232235708
        }
      }
    },
    {
      "cell_type": "code",
      "source": [
        "# Visualizando alguns registros\r\n",
        "pokemons.head(5)"
      ],
      "outputs": [
        {
          "output_type": "execute_result",
          "execution_count": 94,
          "data": {
            "text/plain": "   #                   Name Type 1  Type 2  Total  HP  Attack  Defense  \\\n0  1              Bulbasaur  Grass  Poison    318  45      49       49   \n1  2                Ivysaur  Grass  Poison    405  60      62       63   \n2  3               Venusaur  Grass  Poison    525  80      82       83   \n3  3  VenusaurMega Venusaur  Grass  Poison    625  80     100      123   \n4  4             Charmander   Fire     NaN    309  39      52       43   \n\n   Sp. Atk  Sp. Def  Speed  Generation  Legendary  \n0       65       65     45           1      False  \n1       80       80     60           1      False  \n2      100      100     80           1      False  \n3      122      120     80           1      False  \n4       60       50     65           1      False  ",
            "text/html": "<div>\n<style scoped>\n    .dataframe tbody tr th:only-of-type {\n        vertical-align: middle;\n    }\n\n    .dataframe tbody tr th {\n        vertical-align: top;\n    }\n\n    .dataframe thead th {\n        text-align: right;\n    }\n</style>\n<table border=\"1\" class=\"dataframe\">\n  <thead>\n    <tr style=\"text-align: right;\">\n      <th></th>\n      <th>#</th>\n      <th>Name</th>\n      <th>Type 1</th>\n      <th>Type 2</th>\n      <th>Total</th>\n      <th>HP</th>\n      <th>Attack</th>\n      <th>Defense</th>\n      <th>Sp. Atk</th>\n      <th>Sp. Def</th>\n      <th>Speed</th>\n      <th>Generation</th>\n      <th>Legendary</th>\n    </tr>\n  </thead>\n  <tbody>\n    <tr>\n      <th>0</th>\n      <td>1</td>\n      <td>Bulbasaur</td>\n      <td>Grass</td>\n      <td>Poison</td>\n      <td>318</td>\n      <td>45</td>\n      <td>49</td>\n      <td>49</td>\n      <td>65</td>\n      <td>65</td>\n      <td>45</td>\n      <td>1</td>\n      <td>False</td>\n    </tr>\n    <tr>\n      <th>1</th>\n      <td>2</td>\n      <td>Ivysaur</td>\n      <td>Grass</td>\n      <td>Poison</td>\n      <td>405</td>\n      <td>60</td>\n      <td>62</td>\n      <td>63</td>\n      <td>80</td>\n      <td>80</td>\n      <td>60</td>\n      <td>1</td>\n      <td>False</td>\n    </tr>\n    <tr>\n      <th>2</th>\n      <td>3</td>\n      <td>Venusaur</td>\n      <td>Grass</td>\n      <td>Poison</td>\n      <td>525</td>\n      <td>80</td>\n      <td>82</td>\n      <td>83</td>\n      <td>100</td>\n      <td>100</td>\n      <td>80</td>\n      <td>1</td>\n      <td>False</td>\n    </tr>\n    <tr>\n      <th>3</th>\n      <td>3</td>\n      <td>VenusaurMega Venusaur</td>\n      <td>Grass</td>\n      <td>Poison</td>\n      <td>625</td>\n      <td>80</td>\n      <td>100</td>\n      <td>123</td>\n      <td>122</td>\n      <td>120</td>\n      <td>80</td>\n      <td>1</td>\n      <td>False</td>\n    </tr>\n    <tr>\n      <th>4</th>\n      <td>4</td>\n      <td>Charmander</td>\n      <td>Fire</td>\n      <td>NaN</td>\n      <td>309</td>\n      <td>39</td>\n      <td>52</td>\n      <td>43</td>\n      <td>60</td>\n      <td>50</td>\n      <td>65</td>\n      <td>1</td>\n      <td>False</td>\n    </tr>\n  </tbody>\n</table>\n</div>"
          },
          "metadata": {}
        }
      ],
      "execution_count": 94,
      "metadata": {
        "jupyter": {
          "source_hidden": false,
          "outputs_hidden": false
        },
        "nteract": {
          "transient": {
            "deleting": false
          }
        },
        "gather": {
          "logged": 1666232278756
        }
      }
    },
    {
      "cell_type": "code",
      "source": [
        "# Verificando a existência de valores NULOS em qualquer coluna\r\n",
        "pokemons.isnull().sum()"
      ],
      "outputs": [
        {
          "output_type": "execute_result",
          "execution_count": 95,
          "data": {
            "text/plain": "#               0\nName            0\nType 1          0\nType 2        386\nTotal           0\nHP              0\nAttack          0\nDefense         0\nSp. Atk         0\nSp. Def         0\nSpeed           0\nGeneration      0\nLegendary       0\ndtype: int64"
          },
          "metadata": {}
        }
      ],
      "execution_count": 95,
      "metadata": {
        "jupyter": {
          "source_hidden": false,
          "outputs_hidden": false
        },
        "nteract": {
          "transient": {
            "deleting": false
          }
        },
        "gather": {
          "logged": 1666232322049
        }
      }
    },
    {
      "cell_type": "markdown",
      "source": [
        "## Teste 1: Avaliando o Modelo excluindo todas as linhas se qualquer uma das colunas contiver valor MISSING"
      ],
      "metadata": {
        "nteract": {
          "transient": {
            "deleting": false
          }
        }
      }
    },
    {
      "cell_type": "code",
      "source": [
        "# 800 - 386 = 414 restante"
      ],
      "outputs": [],
      "execution_count": null,
      "metadata": {
        "jupyter": {
          "source_hidden": false,
          "outputs_hidden": false
        },
        "nteract": {
          "transient": {
            "deleting": false
          }
        }
      }
    },
    {
      "cell_type": "code",
      "source": [
        "# Pode excluir as linnhas ou colunas\r\n",
        "# axi s{0 or ‘index’, 1 or ‘columns’}, default 0\r\n",
        "pokemons = pokemons.dropna(axis='index')"
      ],
      "outputs": [],
      "execution_count": 96,
      "metadata": {
        "jupyter": {
          "source_hidden": false,
          "outputs_hidden": false
        },
        "nteract": {
          "transient": {
            "deleting": false
          }
        },
        "gather": {
          "logged": 1666232848465
        }
      }
    },
    {
      "cell_type": "code",
      "source": [
        "pokemons.isnull().sum()"
      ],
      "outputs": [
        {
          "output_type": "execute_result",
          "execution_count": 97,
          "data": {
            "text/plain": "#             0\nName          0\nType 1        0\nType 2        0\nTotal         0\nHP            0\nAttack        0\nDefense       0\nSp. Atk       0\nSp. Def       0\nSpeed         0\nGeneration    0\nLegendary     0\ndtype: int64"
          },
          "metadata": {}
        }
      ],
      "execution_count": 97,
      "metadata": {
        "jupyter": {
          "source_hidden": false,
          "outputs_hidden": false
        },
        "nteract": {
          "transient": {
            "deleting": false
          }
        },
        "gather": {
          "logged": 1666232851538
        }
      }
    },
    {
      "cell_type": "code",
      "source": [
        "print('Tamanho total LINHAS após REMOÇÃO DOS NULOS: ',len(pokemons))"
      ],
      "outputs": [
        {
          "output_type": "stream",
          "name": "stdout",
          "text": "Tamanho total LINHAS após REMOÇÃO DOS NULOS:  414\n"
        }
      ],
      "execution_count": 98,
      "metadata": {
        "jupyter": {
          "source_hidden": false,
          "outputs_hidden": false
        },
        "nteract": {
          "transient": {
            "deleting": false
          }
        },
        "gather": {
          "logged": 1666232861927
        }
      }
    },
    {
      "cell_type": "markdown",
      "source": [
        "## Divisão entre FEATURES e LABEL"
      ],
      "metadata": {
        "nteract": {
          "transient": {
            "deleting": false
          }
        }
      }
    },
    {
      "cell_type": "code",
      "source": [
        "# Prever o HP do Pókemon. Projeto de regressão.\r\n",
        "features_x = pokemons.drop(['Name','HP'], axis = 1)\r\n",
        "label_y = pokemons['HP']"
      ],
      "outputs": [],
      "execution_count": 99,
      "metadata": {
        "jupyter": {
          "source_hidden": false,
          "outputs_hidden": false
        },
        "nteract": {
          "transient": {
            "deleting": false
          }
        },
        "gather": {
          "logged": 1666232927806
        }
      }
    },
    {
      "cell_type": "code",
      "source": [
        "features_x"
      ],
      "outputs": [
        {
          "output_type": "execute_result",
          "execution_count": 100,
          "data": {
            "text/plain": "       #   Type 1  Type 2  Total  Attack  Defense  Sp. Atk  Sp. Def  Speed  \\\n0      1    Grass  Poison    318      49       49       65       65     45   \n1      2    Grass  Poison    405      62       63       80       80     60   \n2      3    Grass  Poison    525      82       83      100      100     80   \n3      3    Grass  Poison    625     100      123      122      120     80   \n6      6     Fire  Flying    534      84       78      109       85    100   \n..   ...      ...     ...    ...     ...      ...      ...      ...    ...   \n795  719     Rock   Fairy    600     100      150      100      150     50   \n796  719     Rock   Fairy    700     160      110      160      110    110   \n797  720  Psychic   Ghost    600     110       60      150      130     70   \n798  720  Psychic    Dark    680     160       60      170      130     80   \n799  721     Fire   Water    600     110      120      130       90     70   \n\n     Generation  Legendary  \n0             1      False  \n1             1      False  \n2             1      False  \n3             1      False  \n6             1      False  \n..          ...        ...  \n795           6       True  \n796           6       True  \n797           6       True  \n798           6       True  \n799           6       True  \n\n[414 rows x 11 columns]",
            "text/html": "<div>\n<style scoped>\n    .dataframe tbody tr th:only-of-type {\n        vertical-align: middle;\n    }\n\n    .dataframe tbody tr th {\n        vertical-align: top;\n    }\n\n    .dataframe thead th {\n        text-align: right;\n    }\n</style>\n<table border=\"1\" class=\"dataframe\">\n  <thead>\n    <tr style=\"text-align: right;\">\n      <th></th>\n      <th>#</th>\n      <th>Type 1</th>\n      <th>Type 2</th>\n      <th>Total</th>\n      <th>Attack</th>\n      <th>Defense</th>\n      <th>Sp. Atk</th>\n      <th>Sp. Def</th>\n      <th>Speed</th>\n      <th>Generation</th>\n      <th>Legendary</th>\n    </tr>\n  </thead>\n  <tbody>\n    <tr>\n      <th>0</th>\n      <td>1</td>\n      <td>Grass</td>\n      <td>Poison</td>\n      <td>318</td>\n      <td>49</td>\n      <td>49</td>\n      <td>65</td>\n      <td>65</td>\n      <td>45</td>\n      <td>1</td>\n      <td>False</td>\n    </tr>\n    <tr>\n      <th>1</th>\n      <td>2</td>\n      <td>Grass</td>\n      <td>Poison</td>\n      <td>405</td>\n      <td>62</td>\n      <td>63</td>\n      <td>80</td>\n      <td>80</td>\n      <td>60</td>\n      <td>1</td>\n      <td>False</td>\n    </tr>\n    <tr>\n      <th>2</th>\n      <td>3</td>\n      <td>Grass</td>\n      <td>Poison</td>\n      <td>525</td>\n      <td>82</td>\n      <td>83</td>\n      <td>100</td>\n      <td>100</td>\n      <td>80</td>\n      <td>1</td>\n      <td>False</td>\n    </tr>\n    <tr>\n      <th>3</th>\n      <td>3</td>\n      <td>Grass</td>\n      <td>Poison</td>\n      <td>625</td>\n      <td>100</td>\n      <td>123</td>\n      <td>122</td>\n      <td>120</td>\n      <td>80</td>\n      <td>1</td>\n      <td>False</td>\n    </tr>\n    <tr>\n      <th>6</th>\n      <td>6</td>\n      <td>Fire</td>\n      <td>Flying</td>\n      <td>534</td>\n      <td>84</td>\n      <td>78</td>\n      <td>109</td>\n      <td>85</td>\n      <td>100</td>\n      <td>1</td>\n      <td>False</td>\n    </tr>\n    <tr>\n      <th>...</th>\n      <td>...</td>\n      <td>...</td>\n      <td>...</td>\n      <td>...</td>\n      <td>...</td>\n      <td>...</td>\n      <td>...</td>\n      <td>...</td>\n      <td>...</td>\n      <td>...</td>\n      <td>...</td>\n    </tr>\n    <tr>\n      <th>795</th>\n      <td>719</td>\n      <td>Rock</td>\n      <td>Fairy</td>\n      <td>600</td>\n      <td>100</td>\n      <td>150</td>\n      <td>100</td>\n      <td>150</td>\n      <td>50</td>\n      <td>6</td>\n      <td>True</td>\n    </tr>\n    <tr>\n      <th>796</th>\n      <td>719</td>\n      <td>Rock</td>\n      <td>Fairy</td>\n      <td>700</td>\n      <td>160</td>\n      <td>110</td>\n      <td>160</td>\n      <td>110</td>\n      <td>110</td>\n      <td>6</td>\n      <td>True</td>\n    </tr>\n    <tr>\n      <th>797</th>\n      <td>720</td>\n      <td>Psychic</td>\n      <td>Ghost</td>\n      <td>600</td>\n      <td>110</td>\n      <td>60</td>\n      <td>150</td>\n      <td>130</td>\n      <td>70</td>\n      <td>6</td>\n      <td>True</td>\n    </tr>\n    <tr>\n      <th>798</th>\n      <td>720</td>\n      <td>Psychic</td>\n      <td>Dark</td>\n      <td>680</td>\n      <td>160</td>\n      <td>60</td>\n      <td>170</td>\n      <td>130</td>\n      <td>80</td>\n      <td>6</td>\n      <td>True</td>\n    </tr>\n    <tr>\n      <th>799</th>\n      <td>721</td>\n      <td>Fire</td>\n      <td>Water</td>\n      <td>600</td>\n      <td>110</td>\n      <td>120</td>\n      <td>130</td>\n      <td>90</td>\n      <td>70</td>\n      <td>6</td>\n      <td>True</td>\n    </tr>\n  </tbody>\n</table>\n<p>414 rows × 11 columns</p>\n</div>"
          },
          "metadata": {}
        }
      ],
      "execution_count": 100,
      "metadata": {
        "jupyter": {
          "source_hidden": false,
          "outputs_hidden": false
        },
        "nteract": {
          "transient": {
            "deleting": false
          }
        },
        "gather": {
          "logged": 1666232931329
        }
      }
    },
    {
      "cell_type": "code",
      "source": [
        "label_y"
      ],
      "outputs": [
        {
          "output_type": "execute_result",
          "execution_count": 101,
          "data": {
            "text/plain": "0      45\n1      60\n2      80\n3      80\n6      78\n       ..\n795    50\n796    50\n797    80\n798    80\n799    80\nName: HP, Length: 414, dtype: int64"
          },
          "metadata": {}
        }
      ],
      "execution_count": 101,
      "metadata": {
        "jupyter": {
          "source_hidden": false,
          "outputs_hidden": false
        },
        "nteract": {
          "transient": {
            "deleting": false
          }
        },
        "gather": {
          "logged": 1666232944451
        }
      }
    },
    {
      "cell_type": "markdown",
      "source": [
        "## Tratamento das Variáveis Categóricas. Técnica: One-Hot encoding"
      ],
      "metadata": {
        "nteract": {
          "transient": {
            "deleting": false
          }
        }
      }
    },
    {
      "cell_type": "code",
      "source": [
        "features_x = pd.get_dummies(features_x, drop_first = True)\r\n",
        "features_x"
      ],
      "outputs": [
        {
          "output_type": "execute_result",
          "execution_count": 102,
          "data": {
            "text/plain": "       #  Total  Attack  Defense  Sp. Atk  Sp. Def  Speed  Generation  \\\n0      1    318      49       49       65       65     45           1   \n1      2    405      62       63       80       80     60           1   \n2      3    525      82       83      100      100     80           1   \n3      3    625     100      123      122      120     80           1   \n6      6    534      84       78      109       85    100           1   \n..   ...    ...     ...      ...      ...      ...    ...         ...   \n795  719    600     100      150      100      150     50           6   \n796  719    700     160      110      160      110    110           6   \n797  720    600     110       60      150      130     70           6   \n798  720    680     160       60      170      130     80           6   \n799  721    600     110      120      130       90     70           6   \n\n     Legendary  Type 1_Dark  ...  Type 2_Ghost  Type 2_Grass  Type 2_Ground  \\\n0        False            0  ...             0             0              0   \n1        False            0  ...             0             0              0   \n2        False            0  ...             0             0              0   \n3        False            0  ...             0             0              0   \n6        False            0  ...             0             0              0   \n..         ...          ...  ...           ...           ...            ...   \n795       True            0  ...             0             0              0   \n796       True            0  ...             0             0              0   \n797       True            0  ...             1             0              0   \n798       True            0  ...             0             0              0   \n799       True            0  ...             0             0              0   \n\n     Type 2_Ice  Type 2_Normal  Type 2_Poison  Type 2_Psychic  Type 2_Rock  \\\n0             0              0              1               0            0   \n1             0              0              1               0            0   \n2             0              0              1               0            0   \n3             0              0              1               0            0   \n6             0              0              0               0            0   \n..          ...            ...            ...             ...          ...   \n795           0              0              0               0            0   \n796           0              0              0               0            0   \n797           0              0              0               0            0   \n798           0              0              0               0            0   \n799           0              0              0               0            0   \n\n     Type 2_Steel  Type 2_Water  \n0               0             0  \n1               0             0  \n2               0             0  \n3               0             0  \n6               0             0  \n..            ...           ...  \n795             0             0  \n796             0             0  \n797             0             0  \n798             0             0  \n799             0             1  \n\n[414 rows x 43 columns]",
            "text/html": "<div>\n<style scoped>\n    .dataframe tbody tr th:only-of-type {\n        vertical-align: middle;\n    }\n\n    .dataframe tbody tr th {\n        vertical-align: top;\n    }\n\n    .dataframe thead th {\n        text-align: right;\n    }\n</style>\n<table border=\"1\" class=\"dataframe\">\n  <thead>\n    <tr style=\"text-align: right;\">\n      <th></th>\n      <th>#</th>\n      <th>Total</th>\n      <th>Attack</th>\n      <th>Defense</th>\n      <th>Sp. Atk</th>\n      <th>Sp. Def</th>\n      <th>Speed</th>\n      <th>Generation</th>\n      <th>Legendary</th>\n      <th>Type 1_Dark</th>\n      <th>...</th>\n      <th>Type 2_Ghost</th>\n      <th>Type 2_Grass</th>\n      <th>Type 2_Ground</th>\n      <th>Type 2_Ice</th>\n      <th>Type 2_Normal</th>\n      <th>Type 2_Poison</th>\n      <th>Type 2_Psychic</th>\n      <th>Type 2_Rock</th>\n      <th>Type 2_Steel</th>\n      <th>Type 2_Water</th>\n    </tr>\n  </thead>\n  <tbody>\n    <tr>\n      <th>0</th>\n      <td>1</td>\n      <td>318</td>\n      <td>49</td>\n      <td>49</td>\n      <td>65</td>\n      <td>65</td>\n      <td>45</td>\n      <td>1</td>\n      <td>False</td>\n      <td>0</td>\n      <td>...</td>\n      <td>0</td>\n      <td>0</td>\n      <td>0</td>\n      <td>0</td>\n      <td>0</td>\n      <td>1</td>\n      <td>0</td>\n      <td>0</td>\n      <td>0</td>\n      <td>0</td>\n    </tr>\n    <tr>\n      <th>1</th>\n      <td>2</td>\n      <td>405</td>\n      <td>62</td>\n      <td>63</td>\n      <td>80</td>\n      <td>80</td>\n      <td>60</td>\n      <td>1</td>\n      <td>False</td>\n      <td>0</td>\n      <td>...</td>\n      <td>0</td>\n      <td>0</td>\n      <td>0</td>\n      <td>0</td>\n      <td>0</td>\n      <td>1</td>\n      <td>0</td>\n      <td>0</td>\n      <td>0</td>\n      <td>0</td>\n    </tr>\n    <tr>\n      <th>2</th>\n      <td>3</td>\n      <td>525</td>\n      <td>82</td>\n      <td>83</td>\n      <td>100</td>\n      <td>100</td>\n      <td>80</td>\n      <td>1</td>\n      <td>False</td>\n      <td>0</td>\n      <td>...</td>\n      <td>0</td>\n      <td>0</td>\n      <td>0</td>\n      <td>0</td>\n      <td>0</td>\n      <td>1</td>\n      <td>0</td>\n      <td>0</td>\n      <td>0</td>\n      <td>0</td>\n    </tr>\n    <tr>\n      <th>3</th>\n      <td>3</td>\n      <td>625</td>\n      <td>100</td>\n      <td>123</td>\n      <td>122</td>\n      <td>120</td>\n      <td>80</td>\n      <td>1</td>\n      <td>False</td>\n      <td>0</td>\n      <td>...</td>\n      <td>0</td>\n      <td>0</td>\n      <td>0</td>\n      <td>0</td>\n      <td>0</td>\n      <td>1</td>\n      <td>0</td>\n      <td>0</td>\n      <td>0</td>\n      <td>0</td>\n    </tr>\n    <tr>\n      <th>6</th>\n      <td>6</td>\n      <td>534</td>\n      <td>84</td>\n      <td>78</td>\n      <td>109</td>\n      <td>85</td>\n      <td>100</td>\n      <td>1</td>\n      <td>False</td>\n      <td>0</td>\n      <td>...</td>\n      <td>0</td>\n      <td>0</td>\n      <td>0</td>\n      <td>0</td>\n      <td>0</td>\n      <td>0</td>\n      <td>0</td>\n      <td>0</td>\n      <td>0</td>\n      <td>0</td>\n    </tr>\n    <tr>\n      <th>...</th>\n      <td>...</td>\n      <td>...</td>\n      <td>...</td>\n      <td>...</td>\n      <td>...</td>\n      <td>...</td>\n      <td>...</td>\n      <td>...</td>\n      <td>...</td>\n      <td>...</td>\n      <td>...</td>\n      <td>...</td>\n      <td>...</td>\n      <td>...</td>\n      <td>...</td>\n      <td>...</td>\n      <td>...</td>\n      <td>...</td>\n      <td>...</td>\n      <td>...</td>\n      <td>...</td>\n    </tr>\n    <tr>\n      <th>795</th>\n      <td>719</td>\n      <td>600</td>\n      <td>100</td>\n      <td>150</td>\n      <td>100</td>\n      <td>150</td>\n      <td>50</td>\n      <td>6</td>\n      <td>True</td>\n      <td>0</td>\n      <td>...</td>\n      <td>0</td>\n      <td>0</td>\n      <td>0</td>\n      <td>0</td>\n      <td>0</td>\n      <td>0</td>\n      <td>0</td>\n      <td>0</td>\n      <td>0</td>\n      <td>0</td>\n    </tr>\n    <tr>\n      <th>796</th>\n      <td>719</td>\n      <td>700</td>\n      <td>160</td>\n      <td>110</td>\n      <td>160</td>\n      <td>110</td>\n      <td>110</td>\n      <td>6</td>\n      <td>True</td>\n      <td>0</td>\n      <td>...</td>\n      <td>0</td>\n      <td>0</td>\n      <td>0</td>\n      <td>0</td>\n      <td>0</td>\n      <td>0</td>\n      <td>0</td>\n      <td>0</td>\n      <td>0</td>\n      <td>0</td>\n    </tr>\n    <tr>\n      <th>797</th>\n      <td>720</td>\n      <td>600</td>\n      <td>110</td>\n      <td>60</td>\n      <td>150</td>\n      <td>130</td>\n      <td>70</td>\n      <td>6</td>\n      <td>True</td>\n      <td>0</td>\n      <td>...</td>\n      <td>1</td>\n      <td>0</td>\n      <td>0</td>\n      <td>0</td>\n      <td>0</td>\n      <td>0</td>\n      <td>0</td>\n      <td>0</td>\n      <td>0</td>\n      <td>0</td>\n    </tr>\n    <tr>\n      <th>798</th>\n      <td>720</td>\n      <td>680</td>\n      <td>160</td>\n      <td>60</td>\n      <td>170</td>\n      <td>130</td>\n      <td>80</td>\n      <td>6</td>\n      <td>True</td>\n      <td>0</td>\n      <td>...</td>\n      <td>0</td>\n      <td>0</td>\n      <td>0</td>\n      <td>0</td>\n      <td>0</td>\n      <td>0</td>\n      <td>0</td>\n      <td>0</td>\n      <td>0</td>\n      <td>0</td>\n    </tr>\n    <tr>\n      <th>799</th>\n      <td>721</td>\n      <td>600</td>\n      <td>110</td>\n      <td>120</td>\n      <td>130</td>\n      <td>90</td>\n      <td>70</td>\n      <td>6</td>\n      <td>True</td>\n      <td>0</td>\n      <td>...</td>\n      <td>0</td>\n      <td>0</td>\n      <td>0</td>\n      <td>0</td>\n      <td>0</td>\n      <td>0</td>\n      <td>0</td>\n      <td>0</td>\n      <td>0</td>\n      <td>1</td>\n    </tr>\n  </tbody>\n</table>\n<p>414 rows × 43 columns</p>\n</div>"
          },
          "metadata": {}
        }
      ],
      "execution_count": 102,
      "metadata": {
        "jupyter": {
          "source_hidden": false,
          "outputs_hidden": false
        },
        "nteract": {
          "transient": {
            "deleting": false
          }
        },
        "gather": {
          "logged": 1666233011581
        }
      }
    },
    {
      "cell_type": "code",
      "source": [
        "# Antes: 11 colunas\r\n",
        "features_x.shape"
      ],
      "outputs": [
        {
          "output_type": "execute_result",
          "execution_count": 103,
          "data": {
            "text/plain": "(414, 43)"
          },
          "metadata": {}
        }
      ],
      "execution_count": 103,
      "metadata": {
        "jupyter": {
          "source_hidden": false,
          "outputs_hidden": false
        },
        "nteract": {
          "transient": {
            "deleting": false
          }
        },
        "gather": {
          "logged": 1666233041536
        }
      }
    },
    {
      "cell_type": "markdown",
      "source": [
        "## Divisão entre Dados de Treino e Teste"
      ],
      "metadata": {
        "nteract": {
          "transient": {
            "deleting": false
          }
        }
      }
    },
    {
      "cell_type": "code",
      "source": [
        "x_train, x_test, y_train, y_teste = train_test_split(features_x,label_y,test_size = 0.20,random_state = 7)"
      ],
      "outputs": [],
      "execution_count": 104,
      "metadata": {
        "jupyter": {
          "source_hidden": false,
          "outputs_hidden": false
        },
        "nteract": {
          "transient": {
            "deleting": false
          }
        },
        "gather": {
          "logged": 1666233075392
        }
      }
    },
    {
      "cell_type": "code",
      "source": [
        "print('Tamanho total: ',len(pokemons))\r\n",
        "print('Tamanho total do TREINAMENTO: ',len(x_train))\r\n",
        "print('Tamanho total do TESTE: ',len(x_test))"
      ],
      "outputs": [
        {
          "output_type": "stream",
          "name": "stdout",
          "text": "Tamanho total:  414\nTamanho total do TREINAMENTO:  331\nTamanho total do TESTE:  83\n"
        }
      ],
      "execution_count": 105,
      "metadata": {
        "jupyter": {
          "source_hidden": false,
          "outputs_hidden": false
        },
        "nteract": {
          "transient": {
            "deleting": false
          }
        },
        "gather": {
          "logged": 1666233087791
        }
      }
    },
    {
      "cell_type": "markdown",
      "source": [
        "## Treinamento do Algoritmo"
      ],
      "metadata": {
        "nteract": {
          "transient": {
            "deleting": false
          }
        }
      }
    },
    {
      "cell_type": "code",
      "source": [
        "clf = tree.DecisionTreeRegressor(random_state=7)\r\n",
        "clf = clf.fit(x_train, y_train)"
      ],
      "outputs": [],
      "execution_count": 112,
      "metadata": {
        "jupyter": {
          "source_hidden": false,
          "outputs_hidden": false
        },
        "nteract": {
          "transient": {
            "deleting": false
          }
        },
        "gather": {
          "logged": 1666233827528
        }
      }
    },
    {
      "cell_type": "markdown",
      "source": [
        "## Previsões e Avaliação de Resultados"
      ],
      "metadata": {
        "nteract": {
          "transient": {
            "deleting": false
          }
        }
      }
    },
    {
      "cell_type": "code",
      "source": [
        "previsoes = clf.predict(x_test)"
      ],
      "outputs": [],
      "execution_count": 114,
      "metadata": {
        "jupyter": {
          "source_hidden": false,
          "outputs_hidden": false
        },
        "nteract": {
          "transient": {
            "deleting": false
          }
        },
        "gather": {
          "logged": 1666233887676
        }
      }
    },
    {
      "cell_type": "code",
      "source": [
        "# R2 é chamado Coeficiente de Determinação. Explica o percentual da variabilidade dos dados da target pode ser explicado pelas FEATURES. 0 - 1\r\n",
        "print('R2 é : ',r2_score(y_teste, previsoes))\r\n",
        "print('Média de erros ao quadrado é: ',mean_squared_error(y_teste, previsoes))"
      ],
      "outputs": [
        {
          "output_type": "stream",
          "name": "stdout",
          "text": "R2 é :  -0.09138067265436578\nMédia de erros ao quadrado é:  535.3373493975904\n"
        }
      ],
      "execution_count": 115,
      "metadata": {
        "jupyter": {
          "source_hidden": false,
          "outputs_hidden": false
        },
        "nteract": {
          "transient": {
            "deleting": false
          }
        },
        "gather": {
          "logged": 1666233888861
        }
      }
    },
    {
      "cell_type": "markdown",
      "source": [
        "## Teste 2: Avaliando o Modelo com a Imputação de Valores Missing."
      ],
      "metadata": {
        "nteract": {
          "transient": {
            "deleting": false
          }
        }
      }
    },
    {
      "cell_type": "code",
      "source": [
        "# Leitura da base\r\n",
        "pokemons = pd.read_csv('bases/Pokemon.csv')\r\n",
        "\r\n",
        "# Imputação de valores nulos.\r\n",
        "pokemons = pokemons.fillna('Desconhecido')\r\n",
        "print(pokemons.isnull().sum())\r\n",
        "print('Tamanho total: ',len(pokemons))\r\n",
        "\r\n",
        "# Definição de features e y\r\n",
        "features_x = pokemons.drop(['Name','HP'],axis = 1)\r\n",
        "label_y = pokemons['HP']\r\n",
        "\r\n",
        "# Tratamento das variáveis categóricas\r\n",
        "features_x = pd.get_dummies(features_x, drop_first = True)\r\n",
        "\r\n",
        "treinar_avaliar_resultados(features_x,label_y)\r\n"
      ],
      "outputs": [
        {
          "output_type": "stream",
          "name": "stdout",
          "text": "#             0\nName          0\nType 1        0\nType 2        0\nTotal         0\nHP            0\nAttack        0\nDefense       0\nSp. Atk       0\nSp. Def       0\nSpeed         0\nGeneration    0\nLegendary     0\ndtype: int64\nTamanho total:  800\n-------------------------------------------------------------------------------------\nTotal da AMOSTRA:  800\nTotal da AMOSTRA de TREINAMENTO:  640\nTotal da AMOSTRA de TESTE:  160\n-------------------------------------------------------------------------------------\nIniciando o treinamento do modelo. \nModelo treinado:  <class 'sklearn.tree._classes.DecisionTreeRegressor'>\n-------------------------------------------------------------------------------------\nAvaliação das métricas do modelo. \nR2 é :  0.5021302130707862\nMédia de erros ao quadrado é:  353.75\n"
        }
      ],
      "execution_count": 119,
      "metadata": {
        "jupyter": {
          "source_hidden": false,
          "outputs_hidden": false
        },
        "nteract": {
          "transient": {
            "deleting": false
          }
        },
        "gather": {
          "logged": 1666234138995
        }
      }
    },
    {
      "cell_type": "markdown",
      "source": [
        "## Teste 3: Avaliando o Modelo com a Imputação de Valores Missing: Média"
      ],
      "metadata": {
        "nteract": {
          "transient": {
            "deleting": false
          }
        }
      }
    },
    {
      "cell_type": "code",
      "source": [
        "# Leitura da base\r\n",
        "pokemons = pd.read_csv('bases/Pokemon.csv')\r\n",
        "\r\n",
        "# Imputação de valores nulos. Type 2\r\n",
        "pokemons = pokemons.fillna('Desconhecido')\r\n",
        "print(pokemons.isnull().sum())\r\n",
        "\r\n",
        "# Calculando média para duas variáveis\r\n",
        "media_hp = st.mean(pokemons['HP'])\r\n",
        "media_total = st.mean(pokemons['Total'])\r\n",
        "print('Média HP: ',media_hp)\r\n",
        "print('Média Total: ',media_total)\r\n",
        "\r\n",
        "# Simular mais valores nulos\r\n",
        "for item in range(0,80):\r\n",
        "    pokemons.loc[item,'HP'] = None\r\n",
        "    pokemons.loc[item,'Total'] = None\r\n",
        "\r\n",
        "print('Antes da imputação dos valores')\r\n",
        "print(pokemons.isnull().sum())\r\n",
        "\r\n",
        "# Substituindo os valores NULOS\r\n",
        "pokemons['HP'] = pokemons['HP'].fillna(media_hp)\r\n",
        "pokemons['Total'] = pokemons['Total'].fillna(media_total)\r\n",
        "\r\n",
        "# Definição de features e y\r\n",
        "features_x = pokemons.drop(['Name','HP'],axis = 1)\r\n",
        "label_y = pokemons['HP']\r\n",
        "\r\n",
        "print('Depois da imputação dos valores')\r\n",
        "print(pokemons.isnull().sum())\r\n",
        "\r\n",
        "# Tratamento das variáveis categóricas\r\n",
        "features_x = pd.get_dummies(features_x, drop_first = True)\r\n",
        "treinar_avaliar_resultados(features_x,label_y)"
      ],
      "outputs": [
        {
          "output_type": "stream",
          "name": "stdout",
          "text": "#             0\nName          0\nType 1        0\nType 2        0\nTotal         0\nHP            0\nAttack        0\nDefense       0\nSp. Atk       0\nSp. Def       0\nSpeed         0\nGeneration    0\nLegendary     0\ndtype: int64\nMédia HP:  69.25875\nMédia Total:  435.1025\nAntes da imputação dos valores\n#              0\nName           0\nType 1         0\nType 2         0\nTotal         80\nHP            80\nAttack         0\nDefense        0\nSp. Atk        0\nSp. Def        0\nSpeed          0\nGeneration     0\nLegendary      0\ndtype: int64\nDepois da imputação dos valores\n#             0\nName          0\nType 1        0\nType 2        0\nTotal         0\nHP            0\nAttack        0\nDefense       0\nSp. Atk       0\nSp. Def       0\nSpeed         0\nGeneration    0\nLegendary     0\ndtype: int64\n-------------------------------------------------------------------------------------\nTotal da AMOSTRA:  800\nTotal da AMOSTRA de TREINAMENTO:  640\nTotal da AMOSTRA de TESTE:  160\n-------------------------------------------------------------------------------------\nIniciando o treinamento do modelo. \nModelo treinado:  <class 'sklearn.tree._classes.DecisionTreeRegressor'>\n-------------------------------------------------------------------------------------\nAvaliação das métricas do modelo. \nR2 é :  0.47612598688686225\nMédia de erros ao quadrado é:  356.39375\n"
        }
      ],
      "execution_count": 120,
      "metadata": {
        "jupyter": {
          "source_hidden": false,
          "outputs_hidden": false
        },
        "nteract": {
          "transient": {
            "deleting": false
          }
        },
        "gather": {
          "logged": 1666234816297
        }
      }
    },
    {
      "cell_type": "markdown",
      "source": [
        "## Teste 4: Avaliando o Modelo com a Imputação de Valores Missing: Mediana"
      ],
      "metadata": {
        "nteract": {
          "transient": {
            "deleting": false
          }
        }
      }
    },
    {
      "cell_type": "code",
      "source": [
        "# Leitura da base\r\n",
        "pokemons = pd.read_csv('bases/Pokemon.csv')\r\n",
        "\r\n",
        "# Imputação de valores nulos. Type 2\r\n",
        "pokemons = pokemons.fillna('Desconhecido')\r\n",
        "print(pokemons.isnull().sum())\r\n",
        "\r\n",
        "# Calculando média para duas variáveis\r\n",
        "mediana_hp = st.median(pokemons['HP'])\r\n",
        "mediana_total = st.median(pokemons['Total'])\r\n",
        "print('Mediana HP: ',mediana_hp)\r\n",
        "print('Mediana Total: ',mediana_total)\r\n",
        "\r\n",
        "# Simular mais valores nulos\r\n",
        "for item in range(0,80):\r\n",
        "    pokemons.loc[item,'HP'] = None\r\n",
        "    pokemons.loc[item,'Total'] = None\r\n",
        "\r\n",
        "print('Antes da imputação dos valores')\r\n",
        "print(pokemons.isnull().sum())\r\n",
        "\r\n",
        "# Substituindo os valores NULOS\r\n",
        "pokemons['HP'] = pokemons['HP'].fillna(mediana_hp)\r\n",
        "pokemons['Total'] = pokemons['Total'].fillna(mediana_total)\r\n",
        "\r\n",
        "# Definição de features e y\r\n",
        "features_x = pokemons.drop(['Name','HP'],axis = 1)\r\n",
        "label_y = pokemons['HP']\r\n",
        "\r\n",
        "print('Depois da imputação dos valores')\r\n",
        "print(pokemons.isnull().sum())\r\n",
        "\r\n",
        "# Tratamento das variáveis categóricas\r\n",
        "features_x = pd.get_dummies(features_x, drop_first = True)\r\n",
        "treinar_avaliar_resultados(features_x,label_y)"
      ],
      "outputs": [
        {
          "output_type": "stream",
          "name": "stdout",
          "text": "#             0\nName          0\nType 1        0\nType 2        0\nTotal         0\nHP            0\nAttack        0\nDefense       0\nSp. Atk       0\nSp. Def       0\nSpeed         0\nGeneration    0\nLegendary     0\ndtype: int64\nMediana HP:  65.0\nMediana Total:  450.0\nAntes da imputação dos valores\n#              0\nName           0\nType 1         0\nType 2         0\nTotal         80\nHP            80\nAttack         0\nDefense        0\nSp. Atk        0\nSp. Def        0\nSpeed          0\nGeneration     0\nLegendary      0\ndtype: int64\nDepois da imputação dos valores\n#             0\nName          0\nType 1        0\nType 2        0\nTotal         0\nHP            0\nAttack        0\nDefense       0\nSp. Atk       0\nSp. Def       0\nSpeed         0\nGeneration    0\nLegendary     0\ndtype: int64\n-------------------------------------------------------------------------------------\nTotal da AMOSTRA:  800\nTotal da AMOSTRA de TREINAMENTO:  640\nTotal da AMOSTRA de TESTE:  160\n-------------------------------------------------------------------------------------\nIniciando o treinamento do modelo. \nModelo treinado:  <class 'sklearn.tree._classes.DecisionTreeRegressor'>\n-------------------------------------------------------------------------------------\nAvaliação das métricas do modelo. \nR2 é :  0.49134025213946764\nMédia de erros ao quadrado é:  347.0625\n"
        }
      ],
      "execution_count": 122,
      "metadata": {
        "jupyter": {
          "source_hidden": false,
          "outputs_hidden": false
        },
        "nteract": {
          "transient": {
            "deleting": false
          }
        },
        "gather": {
          "logged": 1666235008776
        }
      }
    },
    {
      "cell_type": "markdown",
      "source": [
        "## Teste 5: Avaliando o Modelo com a Remoção das Coluna de Valores Nulos em qualquer coluna"
      ],
      "metadata": {
        "nteract": {
          "transient": {
            "deleting": false
          }
        }
      }
    },
    {
      "cell_type": "code",
      "source": [
        "# Leitura da base\r\n",
        "pokemons = pd.read_csv('bases/Pokemon.csv')\r\n",
        "\r\n",
        "print('Antes da remoção de COLUNAS com valores NULOS')\r\n",
        "print(pokemons.isnull().sum())\r\n",
        "\r\n",
        "# Definição de features e y\r\n",
        "features_x = pokemons.drop(['Name','HP','Type 2'],axis = 1)\r\n",
        "label_y = pokemons['HP']\r\n",
        "\r\n",
        "print('Após remoção de COLUNAS com valores NULOS')\r\n",
        "print(pokemons.isnull().sum())\r\n",
        "\r\n",
        "# Tratamento das variáveis categóricas\r\n",
        "features_x = pd.get_dummies(features_x, drop_first = True)\r\n",
        "treinar_avaliar_resultados(features_x,label_y)"
      ],
      "outputs": [
        {
          "output_type": "stream",
          "name": "stdout",
          "text": "Antes da remoção de COLUNAS com valores NULOS\n#               0\nName            0\nType 1          0\nType 2        386\nTotal           0\nHP              0\nAttack          0\nDefense         0\nSp. Atk         0\nSp. Def         0\nSpeed           0\nGeneration      0\nLegendary       0\ndtype: int64\nApós remoção de COLUNAS com valores NULOS\n#               0\nName            0\nType 1          0\nType 2        386\nTotal           0\nHP              0\nAttack          0\nDefense         0\nSp. Atk         0\nSp. Def         0\nSpeed           0\nGeneration      0\nLegendary       0\ndtype: int64\n-------------------------------------------------------------------------------------\nTotal da AMOSTRA:  800\nTotal da AMOSTRA de TREINAMENTO:  640\nTotal da AMOSTRA de TESTE:  160\n-------------------------------------------------------------------------------------\nIniciando o treinamento do modelo. \nModelo treinado:  <class 'sklearn.tree._classes.DecisionTreeRegressor'>\n-------------------------------------------------------------------------------------\nAvaliação das métricas do modelo. \nR2 é :  0.4311969628623554\nMédia de erros ao quadrado é:  404.15\n"
        }
      ],
      "execution_count": 123,
      "metadata": {
        "jupyter": {
          "source_hidden": false,
          "outputs_hidden": false
        },
        "nteract": {
          "transient": {
            "deleting": false
          }
        },
        "gather": {
          "logged": 1666235126407
        }
      }
    }
  ],
  "metadata": {
    "kernelspec": {
      "name": "python38-azureml",
      "language": "python",
      "display_name": "Python 3.8 - AzureML"
    },
    "language_info": {
      "name": "python",
      "version": "3.8.5",
      "mimetype": "text/x-python",
      "codemirror_mode": {
        "name": "ipython",
        "version": 3
      },
      "pygments_lexer": "ipython3",
      "nbconvert_exporter": "python",
      "file_extension": ".py"
    },
    "nteract": {
      "version": "nteract-front-end@1.0.0"
    },
    "kernel_info": {
      "name": "python38-azureml"
    },
    "microsoft": {
      "host": {
        "AzureML": {
          "notebookHasBeenCompleted": true
        }
      }
    }
  },
  "nbformat": 4,
  "nbformat_minor": 2
}