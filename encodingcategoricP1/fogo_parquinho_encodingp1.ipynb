{
  "cells": [
    {
      "cell_type": "markdown",
      "source": [
        "<img src=\"imagens/logo-RS-01.png\"  width=\"500\" height=\"600\" align = \"center\">"
      ],
      "metadata": {
        "nteract": {
          "transient": {
            "deleting": false
          }
        }
      }
    },
    {
      "cell_type": "markdown",
      "source": [
        "<h2> Tratando Variáveis Qualitativas </h2> </br>\n",
        "Base de dados contém informações sobre os campeonatos brasileiros de 2003 a 2022. Este dataset é sobre cartões, contemplando: quem recebeu o cartão, tipo (amarelho ou vermelho), quando (minuto),  nome do atletla entre outras informações.\n",
        "Referência:\n",
        "https://www.kaggle.com/datasets/adaoduque/campeonato-brasileiro-de-futebol?resource=download&select=campeonato-brasileiro-cartoes.csv"
      ],
      "metadata": {
        "id": "BHrCocbmrL1x"
      }
    },
    {
      "cell_type": "markdown",
      "source": [
        "<img src=\"imagens/variaveis.PNG\"  width=\"700\" height=\"700\" align = \"center\">"
      ],
      "metadata": {
        "nteract": {
          "transient": {
            "deleting": false
          }
        }
      }
    },
    {
      "cell_type": "markdown",
      "source": [
        "Variável Quantitativa é resultado de uma contagem ou mensuração.\n",
        "Variável Qualitativa(Categórica) é um tipo que variável que expressa categoria, classificação de algo. Os valores não podem ser espressados em quantidades. Há dois tipos: nominais e ordinais. Ordinais há ordenação entre as categorias, enquanto as nominais não. Exemplo de ordinais: nível de escolaridade, meses do ano. Exemplo de nominais: cor de olhos. </br>\n",
        "Obserção: as variáveis qualitativas podem ser representados por strings, inteiros, valores reais, entre outros, cabendo sempre a observação do cientista para identificá-la. </br>\n",
        "**Exemplos de Técnicas Encoders**: </br>\n",
        "\n",
        "1 - Ordinal. Tipo Clássico. </br>\n",
        "2 - One Hot. Tipo Clássico. </br>\n",
        "Os classicos oferem uma representação numérica da categoria."
      ],
      "metadata": {
        "nteract": {
          "transient": {
            "deleting": false
          }
        }
      }
    },
    {
      "cell_type": "markdown",
      "source": [
        "Importação de Pacotes Python"
      ],
      "metadata": {
        "id": "KsqO7zpHqjaU"
      }
    },
    {
      "cell_type": "code",
      "source": [
        "import pandas as pd\n",
        "import matplotlib.pyplot as plt\n",
        "from sklearn.preprocessing import OrdinalEncoder,OneHotEncoder\n",
        "import seaborn as sns"
      ],
      "outputs": [],
      "execution_count": 1,
      "metadata": {
        "gather": {
          "logged": 1687631220209
        },
        "id": "4fG9pQpBqobZ"
      }
    },
    {
      "cell_type": "markdown",
      "source": [
        "<h3> Análise Exploratória de Dados (EDA) </h3>"
      ],
      "metadata": {
        "id": "43E-KXtcqeSG"
      }
    },
    {
      "cell_type": "code",
      "source": [
        "# Obtendo os dados\n",
        "campeonate_cartoes = pd.read_csv(\"bases/campeonato-brasileiro-cartoes.csv\")"
      ],
      "outputs": [],
      "execution_count": 2,
      "metadata": {
        "colab": {
          "base_uri": "https://localhost:8080/"
        },
        "gather": {
          "logged": 1687631222919
        },
        "id": "IR4l_FZaqhy9",
        "outputId": "a0a9125b-ca9a-4c34-a7c9-9d0f0420e670"
      }
    },
    {
      "cell_type": "code",
      "source": [
        "campeonate_cartoes.shape"
      ],
      "outputs": [
        {
          "output_type": "execute_result",
          "execution_count": 3,
          "data": {
            "text/plain": "(16739, 8)"
          },
          "metadata": {}
        }
      ],
      "execution_count": 3,
      "metadata": {
        "colab": {
          "base_uri": "https://localhost:8080/"
        },
        "gather": {
          "logged": 1687631245400
        },
        "id": "0hbSRMufqh2M",
        "outputId": "ac0afd91-a794-4b01-9ad8-f6fa50c10c57"
      }
    },
    {
      "cell_type": "code",
      "source": [
        "campeonate_cartoes.columns"
      ],
      "outputs": [
        {
          "output_type": "execute_result",
          "execution_count": 4,
          "data": {
            "text/plain": "Index(['partida_id', 'rodata', 'clube', 'cartao', 'atleta', 'num_camisa',\n       'posicao', 'minuto'],\n      dtype='object')"
          },
          "metadata": {}
        }
      ],
      "execution_count": 4,
      "metadata": {
        "collapsed": false,
        "gather": {
          "logged": 1687631255639
        },
        "jupyter": {
          "outputs_hidden": false,
          "source_hidden": false
        },
        "nteract": {
          "transient": {
            "deleting": false
          }
        }
      }
    },
    {
      "cell_type": "code",
      "source": [
        "type(campeonate_cartoes)"
      ],
      "outputs": [
        {
          "output_type": "execute_result",
          "execution_count": 5,
          "data": {
            "text/plain": "pandas.core.frame.DataFrame"
          },
          "metadata": {}
        }
      ],
      "execution_count": 5,
      "metadata": {
        "gather": {
          "logged": 1687631271528
        }
      }
    },
    {
      "cell_type": "code",
      "source": [
        "campeonate_cartoes.head(10)"
      ],
      "outputs": [
        {
          "output_type": "execute_result",
          "execution_count": 6,
          "data": {
            "text/plain": "   partida_id  rodata          clube   cartao                        atleta  \\\n0        4607       1    Figueirense  Amarelo        Paulo Roberto da Silva   \n1        4608       1  Internacional  Amarelo           Andrés D'Alessandro   \n2        4608       1        Vitoria  Amarelo    Marcelo Machado dos Santos   \n3        4608       1        Vitoria  Amarelo                        Mansur   \n4        4607       1    Figueirense  Amarelo                 Thiago Heleno   \n5        4608       1  Internacional  Amarelo      Juan Silveira dos Santos   \n6        4608       1        Vitoria  Amarelo         Vinícius Santos Silva   \n7        4609       1       Coritiba  Amarelo       Carlos Emiliano Pereira   \n8        4615       1          Sport  Amarelo  Luiz Antonio Linhares Garcia   \n9        4616       1       Criciuma  Amarelo                      Silvinho   \n\n   num_camisa     posicao minuto  \n0        28.0         NaN     66  \n1        10.0  Meio-campo     72  \n2        29.0         NaN     86  \n3         NaN    Zagueiro     10  \n4         4.0    Zagueiro     44  \n5         4.0    Zagueiro     20  \n6         NaN         NaN     82  \n7        30.0    Zagueiro     76  \n8        13.0    Zagueiro     55  \n9         NaN    Atacante     72  ",
            "text/html": "<div>\n<style scoped>\n    .dataframe tbody tr th:only-of-type {\n        vertical-align: middle;\n    }\n\n    .dataframe tbody tr th {\n        vertical-align: top;\n    }\n\n    .dataframe thead th {\n        text-align: right;\n    }\n</style>\n<table border=\"1\" class=\"dataframe\">\n  <thead>\n    <tr style=\"text-align: right;\">\n      <th></th>\n      <th>partida_id</th>\n      <th>rodata</th>\n      <th>clube</th>\n      <th>cartao</th>\n      <th>atleta</th>\n      <th>num_camisa</th>\n      <th>posicao</th>\n      <th>minuto</th>\n    </tr>\n  </thead>\n  <tbody>\n    <tr>\n      <th>0</th>\n      <td>4607</td>\n      <td>1</td>\n      <td>Figueirense</td>\n      <td>Amarelo</td>\n      <td>Paulo Roberto da Silva</td>\n      <td>28.0</td>\n      <td>NaN</td>\n      <td>66</td>\n    </tr>\n    <tr>\n      <th>1</th>\n      <td>4608</td>\n      <td>1</td>\n      <td>Internacional</td>\n      <td>Amarelo</td>\n      <td>Andrés D'Alessandro</td>\n      <td>10.0</td>\n      <td>Meio-campo</td>\n      <td>72</td>\n    </tr>\n    <tr>\n      <th>2</th>\n      <td>4608</td>\n      <td>1</td>\n      <td>Vitoria</td>\n      <td>Amarelo</td>\n      <td>Marcelo Machado dos Santos</td>\n      <td>29.0</td>\n      <td>NaN</td>\n      <td>86</td>\n    </tr>\n    <tr>\n      <th>3</th>\n      <td>4608</td>\n      <td>1</td>\n      <td>Vitoria</td>\n      <td>Amarelo</td>\n      <td>Mansur</td>\n      <td>NaN</td>\n      <td>Zagueiro</td>\n      <td>10</td>\n    </tr>\n    <tr>\n      <th>4</th>\n      <td>4607</td>\n      <td>1</td>\n      <td>Figueirense</td>\n      <td>Amarelo</td>\n      <td>Thiago Heleno</td>\n      <td>4.0</td>\n      <td>Zagueiro</td>\n      <td>44</td>\n    </tr>\n    <tr>\n      <th>5</th>\n      <td>4608</td>\n      <td>1</td>\n      <td>Internacional</td>\n      <td>Amarelo</td>\n      <td>Juan Silveira dos Santos</td>\n      <td>4.0</td>\n      <td>Zagueiro</td>\n      <td>20</td>\n    </tr>\n    <tr>\n      <th>6</th>\n      <td>4608</td>\n      <td>1</td>\n      <td>Vitoria</td>\n      <td>Amarelo</td>\n      <td>Vinícius Santos Silva</td>\n      <td>NaN</td>\n      <td>NaN</td>\n      <td>82</td>\n    </tr>\n    <tr>\n      <th>7</th>\n      <td>4609</td>\n      <td>1</td>\n      <td>Coritiba</td>\n      <td>Amarelo</td>\n      <td>Carlos Emiliano Pereira</td>\n      <td>30.0</td>\n      <td>Zagueiro</td>\n      <td>76</td>\n    </tr>\n    <tr>\n      <th>8</th>\n      <td>4615</td>\n      <td>1</td>\n      <td>Sport</td>\n      <td>Amarelo</td>\n      <td>Luiz Antonio Linhares Garcia</td>\n      <td>13.0</td>\n      <td>Zagueiro</td>\n      <td>55</td>\n    </tr>\n    <tr>\n      <th>9</th>\n      <td>4616</td>\n      <td>1</td>\n      <td>Criciuma</td>\n      <td>Amarelo</td>\n      <td>Silvinho</td>\n      <td>NaN</td>\n      <td>Atacante</td>\n      <td>72</td>\n    </tr>\n  </tbody>\n</table>\n</div>"
          },
          "metadata": {}
        }
      ],
      "execution_count": 6,
      "metadata": {
        "colab": {
          "base_uri": "https://localhost:8080/",
          "height": 613
        },
        "gather": {
          "logged": 1687631277223
        },
        "id": "pfV5XxYj8AhJ",
        "outputId": "24ae452f-9184-4713-e5c1-cd6c4f9d399d"
      }
    },
    {
      "cell_type": "code",
      "source": [
        "# Tipos de dados\n",
        "# por trás o PYTHON salva as strings como OBJECT, tipo do numpy\n",
        "campeonate_cartoes.dtypes"
      ],
      "outputs": [
        {
          "output_type": "execute_result",
          "execution_count": 7,
          "data": {
            "text/plain": "partida_id      int64\nrodata          int64\nclube          object\ncartao         object\natleta         object\nnum_camisa    float64\nposicao        object\nminuto         object\ndtype: object"
          },
          "metadata": {}
        }
      ],
      "execution_count": 7,
      "metadata": {
        "colab": {
          "base_uri": "https://localhost:8080/"
        },
        "gather": {
          "logged": 1687631327542
        },
        "id": "nDaQEk78rGZM",
        "outputId": "828847ae-9850-4276-83f0-114ba23e93ee"
      }
    },
    {
      "cell_type": "code",
      "source": [
        "campeonate_cartoes['clube'].dtypes"
      ],
      "outputs": [
        {
          "output_type": "execute_result",
          "execution_count": 8,
          "data": {
            "text/plain": "dtype('O')"
          },
          "metadata": {}
        }
      ],
      "execution_count": 8,
      "metadata": {
        "colab": {
          "base_uri": "https://localhost:8080/",
          "height": 473
        },
        "id": "jZj0QN_Ir2yx",
        "outputId": "25f9cc75-2fae-4f0e-c173-289be8a44fa4",
        "gather": {
          "logged": 1687631369730
        }
      }
    },
    {
      "cell_type": "code",
      "source": [
        "# Sériue = como se fosse uma coluna no excel. Matriz unidimensional, podendo ser manipulada via índice.\n",
        "type(campeonate_cartoes['clube'])"
      ],
      "outputs": [
        {
          "output_type": "execute_result",
          "execution_count": 9,
          "data": {
            "text/plain": "pandas.core.series.Series"
          },
          "metadata": {}
        }
      ],
      "execution_count": 9,
      "metadata": {
        "gather": {
          "logged": 1687631379304
        }
      }
    },
    {
      "cell_type": "markdown",
      "source": [
        "<h4> Variável clube </h4>"
      ],
      "metadata": {
        "id": "_Wkvv4oGtMZN"
      }
    },
    {
      "cell_type": "code",
      "source": [
        "print('Qtde de CLUBES únicos ',len(campeonate_cartoes['clube'].unique()))"
      ],
      "outputs": [
        {
          "output_type": "stream",
          "name": "stdout",
          "text": "Qtde de CLUBES únicos  34\n"
        }
      ],
      "execution_count": 11,
      "metadata": {
        "gather": {
          "logged": 1687631550926
        }
      }
    },
    {
      "cell_type": "code",
      "source": [
        "print('CLUBES únicos ',campeonate_cartoes['clube'].unique())"
      ],
      "outputs": [
        {
          "output_type": "stream",
          "name": "stdout",
          "text": "CLUBES únicos  ['Figueirense' 'Internacional' 'Vitoria' 'Coritiba' 'Sport' 'Criciuma'\n 'Palmeiras' 'Athletico-PR' 'Gremio' 'Botafogo-RJ' 'Bahia' 'Cruzeiro'\n 'Flamengo' 'Goias' 'Santos' 'Sao Paulo' 'Fluminense' 'Corinthians'\n 'Atletico-MG' 'Chapecoense' 'Joinville' 'Ponte Preta' 'Avai' 'Vasco'\n 'Santa Cruz' 'America-MG' 'Atletico-GO' 'Ceara' 'Parana' 'Fortaleza'\n 'CSA' 'Bragantino' 'Cuiaba' 'Juventude']\n"
        }
      ],
      "execution_count": 12,
      "metadata": {
        "collapsed": false,
        "gather": {
          "logged": 1687631561384
        },
        "jupyter": {
          "outputs_hidden": false,
          "source_hidden": false
        },
        "nteract": {
          "transient": {
            "deleting": false
          }
        }
      }
    },
    {
      "cell_type": "code",
      "source": [
        "campeonate_cartoes_agrupado = campeonate_cartoes.groupby('clube').count().loc[:,'partida_id'].rename(\"Qtde de amostras\")\n",
        "campeonate_cartoes_agrupado = campeonate_cartoes_agrupado.sort_values(ascending=False)\n",
        "campeonate_cartoes_agrupado"
      ],
      "outputs": [
        {
          "output_type": "execute_result",
          "execution_count": 13,
          "data": {
            "text/plain": "clube\nSao Paulo        845\nPalmeiras        842\nSantos           840\nFluminense       830\nInternacional    823\nAthletico-PR     766\nFlamengo         764\nAtletico-MG      759\nGremio           730\nCorinthians      693\nBotafogo-RJ      661\nCoritiba         641\nSport            611\nChapecoense      587\nCruzeiro         563\nBahia            556\nVasco            546\nCeara            504\nGoias            499\nVitoria          417\nAvai             406\nAtletico-GO      373\nFortaleza        357\nFigueirense      324\nAmerica-MG       321\nPonte Preta      308\nBragantino       264\nJuventude        210\nCuiaba           172\nCriciuma         121\nParana           109\nJoinville        107\nCSA               95\nSanta Cruz        95\nName: Qtde de amostras, dtype: int64"
          },
          "metadata": {}
        }
      ],
      "execution_count": 13,
      "metadata": {
        "colab": {
          "base_uri": "https://localhost:8080/"
        },
        "gather": {
          "logged": 1687631622077
        },
        "id": "HPGmrQeYtXO8",
        "outputId": "b3cc92a8-fd6f-4d79-afd3-0bdd19f80676"
      }
    },
    {
      "cell_type": "code",
      "source": [
        "plt.figure(figsize = (10,8))\n",
        "x = campeonate_cartoes_agrupado.index\n",
        "height = campeonate_cartoes_agrupado.values\n",
        "plt.bar(x, height)\n",
        "plt.title('Contagem de cartões por CLUBE')\n",
        "plt.xticks(rotation = 90)\n",
        "plt.show()"
      ],
      "outputs": [
        {
          "output_type": "display_data",
          "data": {
            "text/plain": "<Figure size 1000x800 with 1 Axes>",
            "image/png": "[encoded data removed]"
          },
          "metadata": {}
        }
      ],
      "execution_count": 15,
      "metadata": {
        "colab": {
          "base_uri": "https://localhost:8080/",
          "height": 533
        },
        "gather": {
          "logged": 1687631693739
        },
        "id": "dxIboknxu2y7",
        "outputId": "61edb777-e53a-47d7-ecac-929a715cc5fd"
      }
    },
    {
      "cell_type": "markdown",
      "source": [
        "<h4> Variável CARTÃO </h4>"
      ],
      "metadata": {}
    },
    {
      "cell_type": "code",
      "source": [
        "print('Qtde de CARTÕES únicos ',len(campeonate_cartoes['cartao'].unique()))"
      ],
      "outputs": [
        {
          "output_type": "stream",
          "name": "stdout",
          "text": "Qtde de CARTÕES únicos  2\n"
        }
      ],
      "execution_count": 16,
      "metadata": {
        "gather": {
          "logged": 1687631721802
        }
      }
    },
    {
      "cell_type": "code",
      "source": [
        "campeonate_cartoes['cartao'].nunique()"
      ],
      "outputs": [
        {
          "output_type": "execute_result",
          "execution_count": 17,
          "data": {
            "text/plain": "2"
          },
          "metadata": {}
        }
      ],
      "execution_count": 17,
      "metadata": {
        "gather": {
          "logged": 1687631727659
        }
      }
    },
    {
      "cell_type": "code",
      "source": [
        "campeonate_cartoes['cartao'].unique()"
      ],
      "outputs": [
        {
          "output_type": "execute_result",
          "execution_count": 18,
          "data": {
            "text/plain": "array(['Amarelo', 'Vermelho'], dtype=object)"
          },
          "metadata": {}
        }
      ],
      "execution_count": 18,
      "metadata": {
        "gather": {
          "logged": 1687631744403
        }
      }
    },
    {
      "cell_type": "code",
      "source": [
        "campeonate_cartoes_agrupado_c = campeonate_cartoes.groupby('cartao').count().loc[:,'partida_id'].rename(\"Qtde de amostras\")\n",
        "campeonate_cartoes_agrupado_c = campeonate_cartoes_agrupado_c.sort_values(ascending=False)\n",
        "campeonate_cartoes_agrupado_c"
      ],
      "outputs": [
        {
          "output_type": "execute_result",
          "execution_count": 19,
          "data": {
            "text/plain": "cartao\nAmarelo     15889\nVermelho      850\nName: Qtde de amostras, dtype: int64"
          },
          "metadata": {}
        }
      ],
      "execution_count": 19,
      "metadata": {
        "gather": {
          "logged": 1687632013016
        }
      }
    },
    {
      "cell_type": "code",
      "source": [
        "plt.style.use(\"ggplot\")\n",
        "fig, _ = plt.subplots(1, figsize=(14,8))\n",
        "ax = sns.countplot(x=\"cartao\", data=campeonate_cartoes)\n",
        "fig.tight_layout()"
      ],
      "outputs": [
        {
          "output_type": "display_data",
          "data": {
            "text/plain": "<Figure size 1400x800 with 1 Axes>",
            "image/png": "[encoded data removed]"
          },
          "metadata": {}
        }
      ],
      "execution_count": 20,
      "metadata": {
        "gather": {
          "logged": 1687632027906
        }
      }
    },
    {
      "cell_type": "markdown",
      "source": [
        "<h4> Aplicação do ORDINAL ENCODER </h4>"
      ],
      "metadata": {}
    },
    {
      "cell_type": "code",
      "source": [
        "# Aplica um mapeamento entre cada categoria e um valor numérico (de forma exclusiva).\n",
        "# ORDINAL porque requer uma ordem entre as categorias"
      ],
      "outputs": [],
      "execution_count": 1,
      "metadata": {}
    },
    {
      "cell_type": "code",
      "source": [
        "# Aplicação na varíavel CARTÃO\n",
        "ordinal_encoder = OrdinalEncoder()\n",
        "campeonate_cartoes[\"cartao_numerico\"] = ordinal_encoder.fit_transform(campeonate_cartoes.cartao.values.reshape(-1,1))\n",
        "campeonate_cartoes[\"cartao_numerico\"]"
      ],
      "outputs": [
        {
          "output_type": "execute_result",
          "execution_count": 24,
          "data": {
            "text/plain": "0        0.0\n1        0.0\n2        0.0\n3        0.0\n4        0.0\n        ... \n16734    0.0\n16735    0.0\n16736    0.0\n16737    0.0\n16738    0.0\nName: cartao_numerico, Length: 16739, dtype: float64"
          },
          "metadata": {}
        }
      ],
      "execution_count": 24,
      "metadata": {
        "gather": {
          "logged": 1687632688081
        }
      }
    },
    {
      "cell_type": "code",
      "source": [
        "campeonate_cartoes[[\"cartao\",\"cartao_numerico\"]].head(5)"
      ],
      "outputs": [
        {
          "output_type": "execute_result",
          "execution_count": 26,
          "data": {
            "text/plain": "    cartao  cartao_numerico\n0  Amarelo              0.0\n1  Amarelo              0.0\n2  Amarelo              0.0\n3  Amarelo              0.0\n4  Amarelo              0.0",
            "text/html": "<div>\n<style scoped>\n    .dataframe tbody tr th:only-of-type {\n        vertical-align: middle;\n    }\n\n    .dataframe tbody tr th {\n        vertical-align: top;\n    }\n\n    .dataframe thead th {\n        text-align: right;\n    }\n</style>\n<table border=\"1\" class=\"dataframe\">\n  <thead>\n    <tr style=\"text-align: right;\">\n      <th></th>\n      <th>cartao</th>\n      <th>cartao_numerico</th>\n    </tr>\n  </thead>\n  <tbody>\n    <tr>\n      <th>0</th>\n      <td>Amarelo</td>\n      <td>0.0</td>\n    </tr>\n    <tr>\n      <th>1</th>\n      <td>Amarelo</td>\n      <td>0.0</td>\n    </tr>\n    <tr>\n      <th>2</th>\n      <td>Amarelo</td>\n      <td>0.0</td>\n    </tr>\n    <tr>\n      <th>3</th>\n      <td>Amarelo</td>\n      <td>0.0</td>\n    </tr>\n    <tr>\n      <th>4</th>\n      <td>Amarelo</td>\n      <td>0.0</td>\n    </tr>\n  </tbody>\n</table>\n</div>"
          },
          "metadata": {}
        }
      ],
      "execution_count": 26,
      "metadata": {
        "gather": {
          "logged": 1687632723939
        }
      }
    },
    {
      "cell_type": "code",
      "source": [
        "# Visualizando os valores únicos\n",
        "campeonate_cartoes[\"cartao_numerico\"].unique()"
      ],
      "outputs": [
        {
          "output_type": "execute_result",
          "execution_count": 27,
          "data": {
            "text/plain": "array([0., 1.])"
          },
          "metadata": {}
        }
      ],
      "execution_count": 27,
      "metadata": {
        "gather": {
          "logged": 1687632732708
        }
      }
    },
    {
      "cell_type": "code",
      "source": [
        "# Visualizando qual é o numérico associado ao cartão vermelho\n",
        "campeonate_cartoes.query(\"cartao == 'Vermelho'\").head(5).loc[:,\"cartao_numerico\"]"
      ],
      "outputs": [
        {
          "output_type": "execute_result",
          "execution_count": 28,
          "data": {
            "text/plain": "64     1.0\n79     1.0\n80     1.0\n89     1.0\n131    1.0\nName: cartao_numerico, dtype: float64"
          },
          "metadata": {}
        }
      ],
      "execution_count": 28,
      "metadata": {
        "gather": {
          "logged": 1687632752988
        }
      }
    },
    {
      "cell_type": "code",
      "source": [
        "campeonate_cartoes[\"clube\"]"
      ],
      "outputs": [],
      "execution_count": null,
      "metadata": {}
    },
    {
      "cell_type": "code",
      "source": [
        "campeonate_cartoes[\"cartao_numerico\"].nunique()"
      ],
      "outputs": [
        {
          "output_type": "execute_result",
          "execution_count": 24,
          "data": {
            "text/plain": "2"
          },
          "metadata": {}
        }
      ],
      "execution_count": 24,
      "metadata": {}
    },
    {
      "cell_type": "code",
      "source": [
        "campeonate_cartoes[\"cartao\"].nunique()"
      ],
      "outputs": [
        {
          "output_type": "execute_result",
          "execution_count": 23,
          "data": {
            "text/plain": "2"
          },
          "metadata": {}
        }
      ],
      "execution_count": 23,
      "metadata": {}
    },
    {
      "cell_type": "code",
      "source": [
        "campeonate_cartoes"
      ],
      "outputs": [
        {
          "output_type": "execute_result",
          "execution_count": 21,
          "data": {
            "text/plain": "       partida_id  rodata          clube   cartao  \\\n0            4607       1    Figueirense  Amarelo   \n1            4608       1  Internacional  Amarelo   \n2            4608       1        Vitoria  Amarelo   \n3            4608       1        Vitoria  Amarelo   \n4            4607       1    Figueirense  Amarelo   \n...           ...     ...            ...      ...   \n16734        8023      38    Atletico-MG  Amarelo   \n16735        8024      38  Internacional  Amarelo   \n16736        8024      38      Palmeiras  Amarelo   \n16737        8024      38      Palmeiras  Amarelo   \n16738        8025      38          Goias  Amarelo   \n\n                             atleta  num_camisa     posicao minuto  \n0            Paulo Roberto da Silva        28.0         NaN     66  \n1               Andrés D'Alessandro        10.0  Meio-campo     72  \n2        Marcelo Machado dos Santos        29.0         NaN     86  \n3                            Mansur         NaN    Zagueiro     10  \n4                     Thiago Heleno         4.0    Zagueiro     44  \n...                             ...         ...         ...    ...  \n16734  Jemerson de Jesus Nascimento        34.0    Zagueiro   45+2  \n16735                   Lucas Ramos        37.0  Meio-campo     80  \n16736     José Manuel Alberto López        18.0  Meio-campo     88  \n16737                Eduard Atuesta        20.0  Meio-campo     23  \n16738           Magno Jose da Silva         2.0    Zagueiro     40  \n\n[16739 rows x 8 columns]",
            "text/html": "<div>\n<style scoped>\n    .dataframe tbody tr th:only-of-type {\n        vertical-align: middle;\n    }\n\n    .dataframe tbody tr th {\n        vertical-align: top;\n    }\n\n    .dataframe thead th {\n        text-align: right;\n    }\n</style>\n<table border=\"1\" class=\"dataframe\">\n  <thead>\n    <tr style=\"text-align: right;\">\n      <th></th>\n      <th>partida_id</th>\n      <th>rodata</th>\n      <th>clube</th>\n      <th>cartao</th>\n      <th>atleta</th>\n      <th>num_camisa</th>\n      <th>posicao</th>\n      <th>minuto</th>\n    </tr>\n  </thead>\n  <tbody>\n    <tr>\n      <th>0</th>\n      <td>4607</td>\n      <td>1</td>\n      <td>Figueirense</td>\n      <td>Amarelo</td>\n      <td>Paulo Roberto da Silva</td>\n      <td>28.0</td>\n      <td>NaN</td>\n      <td>66</td>\n    </tr>\n    <tr>\n      <th>1</th>\n      <td>4608</td>\n      <td>1</td>\n      <td>Internacional</td>\n      <td>Amarelo</td>\n      <td>Andrés D'Alessandro</td>\n      <td>10.0</td>\n      <td>Meio-campo</td>\n      <td>72</td>\n    </tr>\n    <tr>\n      <th>2</th>\n      <td>4608</td>\n      <td>1</td>\n      <td>Vitoria</td>\n      <td>Amarelo</td>\n      <td>Marcelo Machado dos Santos</td>\n      <td>29.0</td>\n      <td>NaN</td>\n      <td>86</td>\n    </tr>\n    <tr>\n      <th>3</th>\n      <td>4608</td>\n      <td>1</td>\n      <td>Vitoria</td>\n      <td>Amarelo</td>\n      <td>Mansur</td>\n      <td>NaN</td>\n      <td>Zagueiro</td>\n      <td>10</td>\n    </tr>\n    <tr>\n      <th>4</th>\n      <td>4607</td>\n      <td>1</td>\n      <td>Figueirense</td>\n      <td>Amarelo</td>\n      <td>Thiago Heleno</td>\n      <td>4.0</td>\n      <td>Zagueiro</td>\n      <td>44</td>\n    </tr>\n    <tr>\n      <th>...</th>\n      <td>...</td>\n      <td>...</td>\n      <td>...</td>\n      <td>...</td>\n      <td>...</td>\n      <td>...</td>\n      <td>...</td>\n      <td>...</td>\n    </tr>\n    <tr>\n      <th>16734</th>\n      <td>8023</td>\n      <td>38</td>\n      <td>Atletico-MG</td>\n      <td>Amarelo</td>\n      <td>Jemerson de Jesus Nascimento</td>\n      <td>34.0</td>\n      <td>Zagueiro</td>\n      <td>45+2</td>\n    </tr>\n    <tr>\n      <th>16735</th>\n      <td>8024</td>\n      <td>38</td>\n      <td>Internacional</td>\n      <td>Amarelo</td>\n      <td>Lucas Ramos</td>\n      <td>37.0</td>\n      <td>Meio-campo</td>\n      <td>80</td>\n    </tr>\n    <tr>\n      <th>16736</th>\n      <td>8024</td>\n      <td>38</td>\n      <td>Palmeiras</td>\n      <td>Amarelo</td>\n      <td>José Manuel Alberto López</td>\n      <td>18.0</td>\n      <td>Meio-campo</td>\n      <td>88</td>\n    </tr>\n    <tr>\n      <th>16737</th>\n      <td>8024</td>\n      <td>38</td>\n      <td>Palmeiras</td>\n      <td>Amarelo</td>\n      <td>Eduard Atuesta</td>\n      <td>20.0</td>\n      <td>Meio-campo</td>\n      <td>23</td>\n    </tr>\n    <tr>\n      <th>16738</th>\n      <td>8025</td>\n      <td>38</td>\n      <td>Goias</td>\n      <td>Amarelo</td>\n      <td>Magno Jose da Silva</td>\n      <td>2.0</td>\n      <td>Zagueiro</td>\n      <td>40</td>\n    </tr>\n  </tbody>\n</table>\n<p>16739 rows × 8 columns</p>\n</div>"
          },
          "metadata": {}
        }
      ],
      "execution_count": 21,
      "metadata": {
        "jupyter": {
          "source_hidden": false,
          "outputs_hidden": false
        },
        "nteract": {
          "transient": {
            "deleting": false
          }
        },
        "gather": {
          "logged": 1687632572755
        }
      }
    },
    {
      "cell_type": "code",
      "source": [
        "# Aplicação na varíavel CLUBE\n",
        "ordinal_encoder = OrdinalEncoder()\n",
        "ordinal_encoder = ordinal_encoder.fit(campeonate_cartoes[[\"clube\"]])\n",
        "campeonate_cartoes[\"clube_numerico\"] = ordinal_encoder.transform(campeonate_cartoes[[\"clube\"]])\n",
        "campeonate_cartoes[\"clube_numerico\"]"
      ],
      "outputs": [
        {
          "output_type": "execute_result",
          "execution_count": 22,
          "data": {
            "text/plain": "0        16.0\n1        22.0\n2        33.0\n3        33.0\n4        16.0\n         ... \n16734     3.0\n16735    22.0\n16736    25.0\n16737    25.0\n16738    20.0\nName: clube_numerico, Length: 16739, dtype: float64"
          },
          "metadata": {}
        }
      ],
      "execution_count": 22,
      "metadata": {
        "gather": {
          "logged": 1687632601103
        }
      }
    },
    {
      "cell_type": "code",
      "source": [
        "campeonate_cartoes[[\"clube\",\"clube_numerico\"]]"
      ],
      "outputs": [
        {
          "output_type": "execute_result",
          "execution_count": 23,
          "data": {
            "text/plain": "               clube  clube_numerico\n0        Figueirense            16.0\n1      Internacional            22.0\n2            Vitoria            33.0\n3            Vitoria            33.0\n4        Figueirense            16.0\n...              ...             ...\n16734    Atletico-MG             3.0\n16735  Internacional            22.0\n16736      Palmeiras            25.0\n16737      Palmeiras            25.0\n16738          Goias            20.0\n\n[16739 rows x 2 columns]",
            "text/html": "<div>\n<style scoped>\n    .dataframe tbody tr th:only-of-type {\n        vertical-align: middle;\n    }\n\n    .dataframe tbody tr th {\n        vertical-align: top;\n    }\n\n    .dataframe thead th {\n        text-align: right;\n    }\n</style>\n<table border=\"1\" class=\"dataframe\">\n  <thead>\n    <tr style=\"text-align: right;\">\n      <th></th>\n      <th>clube</th>\n      <th>clube_numerico</th>\n    </tr>\n  </thead>\n  <tbody>\n    <tr>\n      <th>0</th>\n      <td>Figueirense</td>\n      <td>16.0</td>\n    </tr>\n    <tr>\n      <th>1</th>\n      <td>Internacional</td>\n      <td>22.0</td>\n    </tr>\n    <tr>\n      <th>2</th>\n      <td>Vitoria</td>\n      <td>33.0</td>\n    </tr>\n    <tr>\n      <th>3</th>\n      <td>Vitoria</td>\n      <td>33.0</td>\n    </tr>\n    <tr>\n      <th>4</th>\n      <td>Figueirense</td>\n      <td>16.0</td>\n    </tr>\n    <tr>\n      <th>...</th>\n      <td>...</td>\n      <td>...</td>\n    </tr>\n    <tr>\n      <th>16734</th>\n      <td>Atletico-MG</td>\n      <td>3.0</td>\n    </tr>\n    <tr>\n      <th>16735</th>\n      <td>Internacional</td>\n      <td>22.0</td>\n    </tr>\n    <tr>\n      <th>16736</th>\n      <td>Palmeiras</td>\n      <td>25.0</td>\n    </tr>\n    <tr>\n      <th>16737</th>\n      <td>Palmeiras</td>\n      <td>25.0</td>\n    </tr>\n    <tr>\n      <th>16738</th>\n      <td>Goias</td>\n      <td>20.0</td>\n    </tr>\n  </tbody>\n</table>\n<p>16739 rows × 2 columns</p>\n</div>"
          },
          "metadata": {}
        }
      ],
      "execution_count": 23,
      "metadata": {
        "gather": {
          "logged": 1687632610819
        }
      }
    },
    {
      "cell_type": "code",
      "source": [
        "print(\"Qtde de CLUBES MAPEADOS\",campeonate_cartoes[\"clube_numerico\"].nunique())\n",
        "print(\"Qtde de CLUBES ORIGINAIS\",campeonate_cartoes[\"clube\"].nunique())"
      ],
      "outputs": [
        {
          "output_type": "stream",
          "name": "stdout",
          "text": "Qtde de CLUBES MAPEADOS 34\nQtde de CLUBES ORIGINAIS 34\n"
        }
      ],
      "execution_count": 29,
      "metadata": {
        "gather": {
          "logged": 1687632794858
        }
      }
    },
    {
      "cell_type": "code",
      "source": [
        "print(\"Estatística de MAPEAMENTO\")\n",
        "campeonate_cartoes[\"clube_numerico\"].describe()"
      ],
      "outputs": [
        {
          "output_type": "stream",
          "name": "stdout",
          "text": "Estatística de MAPEAMENTO\n"
        },
        {
          "output_type": "execute_result",
          "execution_count": 30,
          "data": {
            "text/plain": "count    16739.000000\nmean        16.612641\nstd          9.967939\nmin          0.000000\n25%          8.000000\n50%         17.000000\n75%         25.000000\nmax         33.000000\nName: clube_numerico, dtype: float64"
          },
          "metadata": {}
        }
      ],
      "execution_count": 30,
      "metadata": {
        "gather": {
          "logged": 1687632809611
        }
      }
    },
    {
      "cell_type": "code",
      "source": [
        "# Operação inversa, ou seja, o valor ORIGINAL\n",
        "# ordinal_encoder.inverse_transform(campeonate_cartoes[[\"clube_numerico\"]])"
      ],
      "outputs": [],
      "execution_count": 32,
      "metadata": {
        "gather": {
          "logged": 1687632849189
        }
      }
    },
    {
      "cell_type": "code",
      "source": [
        "type(ordinal_encoder)"
      ],
      "outputs": [
        {
          "output_type": "execute_result",
          "execution_count": 30,
          "data": {
            "text/plain": "sklearn.preprocessing._encoders.OrdinalEncoder"
          },
          "metadata": {}
        }
      ],
      "execution_count": null,
      "metadata": {}
    },
    {
      "cell_type": "markdown",
      "source": [
        "<h4> Aplicação do ONE HOT ENCODING </h4>"
      ],
      "metadata": {}
    },
    {
      "cell_type": "code",
      "source": [
        "# Criação de um vetor, no qual mapeamos cada CATEGORIA em uma ENTRADA DESSE VETOR.\n",
        "# Cada Categoria tem sua própria entrada (1) e os demais campos ficam zerados."
      ],
      "outputs": [],
      "execution_count": null,
      "metadata": {}
    },
    {
      "cell_type": "markdown",
      "source": [
        "<img src=\"imagens/tecnica_one.png\" align = \"center\">"
      ],
      "metadata": {}
    },
    {
      "cell_type": "code",
      "source": [
        "# Aplicação na variável CARTÃO\n",
        "# Uma possibilidade\n",
        "campeonate_cartoes_categorias = pd.get_dummies(campeonate_cartoes[[\"cartao\"]])\n",
        "campeonate_cartoes_categorias"
      ],
      "outputs": [
        {
          "output_type": "execute_result",
          "execution_count": 33,
          "data": {
            "text/html": "<div>\n<style scoped>\n    .dataframe tbody tr th:only-of-type {\n        vertical-align: middle;\n    }\n\n    .dataframe tbody tr th {\n        vertical-align: top;\n    }\n\n    .dataframe thead th {\n        text-align: right;\n    }\n</style>\n<table border=\"1\" class=\"dataframe\">\n  <thead>\n    <tr style=\"text-align: right;\">\n      <th></th>\n      <th>cartao_Amarelo</th>\n      <th>cartao_Vermelho</th>\n    </tr>\n  </thead>\n  <tbody>\n    <tr>\n      <th>0</th>\n      <td>1</td>\n      <td>0</td>\n    </tr>\n    <tr>\n      <th>1</th>\n      <td>1</td>\n      <td>0</td>\n    </tr>\n    <tr>\n      <th>2</th>\n      <td>1</td>\n      <td>0</td>\n    </tr>\n    <tr>\n      <th>3</th>\n      <td>1</td>\n      <td>0</td>\n    </tr>\n    <tr>\n      <th>4</th>\n      <td>1</td>\n      <td>0</td>\n    </tr>\n    <tr>\n      <th>...</th>\n      <td>...</td>\n      <td>...</td>\n    </tr>\n    <tr>\n      <th>16734</th>\n      <td>1</td>\n      <td>0</td>\n    </tr>\n    <tr>\n      <th>16735</th>\n      <td>1</td>\n      <td>0</td>\n    </tr>\n    <tr>\n      <th>16736</th>\n      <td>1</td>\n      <td>0</td>\n    </tr>\n    <tr>\n      <th>16737</th>\n      <td>1</td>\n      <td>0</td>\n    </tr>\n    <tr>\n      <th>16738</th>\n      <td>1</td>\n      <td>0</td>\n    </tr>\n  </tbody>\n</table>\n<p>16739 rows × 2 columns</p>\n</div>",
            "text/plain": "       cartao_Amarelo  cartao_Vermelho\n0                   1                0\n1                   1                0\n2                   1                0\n3                   1                0\n4                   1                0\n...               ...              ...\n16734               1                0\n16735               1                0\n16736               1                0\n16737               1                0\n16738               1                0\n\n[16739 rows x 2 columns]"
          },
          "metadata": {}
        }
      ],
      "execution_count": 33,
      "metadata": {}
    },
    {
      "cell_type": "code",
      "source": [
        "campeonato_final = pd.concat([campeonate_cartoes,campeonate_cartoes_categorias],axis = 1)\n",
        "campeonato_final"
      ],
      "outputs": [
        {
          "output_type": "execute_result",
          "execution_count": 39,
          "data": {
            "text/html": "<div>\n<style scoped>\n    .dataframe tbody tr th:only-of-type {\n        vertical-align: middle;\n    }\n\n    .dataframe tbody tr th {\n        vertical-align: top;\n    }\n\n    .dataframe thead th {\n        text-align: right;\n    }\n</style>\n<table border=\"1\" class=\"dataframe\">\n  <thead>\n    <tr style=\"text-align: right;\">\n      <th></th>\n      <th>partida_id</th>\n      <th>rodata</th>\n      <th>clube</th>\n      <th>cartao</th>\n      <th>atleta</th>\n      <th>num_camisa</th>\n      <th>posicao</th>\n      <th>minuto</th>\n      <th>cartao_numerico</th>\n      <th>clube_numerico</th>\n      <th>cartao_Amarelo</th>\n      <th>cartao_Vermelho</th>\n    </tr>\n  </thead>\n  <tbody>\n    <tr>\n      <th>0</th>\n      <td>4607</td>\n      <td>1</td>\n      <td>Figueirense</td>\n      <td>Amarelo</td>\n      <td>Paulo Roberto da Silva</td>\n      <td>28.0</td>\n      <td>NaN</td>\n      <td>66</td>\n      <td>0.0</td>\n      <td>16.0</td>\n      <td>1</td>\n      <td>0</td>\n    </tr>\n    <tr>\n      <th>1</th>\n      <td>4608</td>\n      <td>1</td>\n      <td>Internacional</td>\n      <td>Amarelo</td>\n      <td>Andrés D'Alessandro</td>\n      <td>10.0</td>\n      <td>Meio-campo</td>\n      <td>72</td>\n      <td>0.0</td>\n      <td>22.0</td>\n      <td>1</td>\n      <td>0</td>\n    </tr>\n    <tr>\n      <th>2</th>\n      <td>4608</td>\n      <td>1</td>\n      <td>Vitoria</td>\n      <td>Amarelo</td>\n      <td>Marcelo Machado dos Santos</td>\n      <td>29.0</td>\n      <td>NaN</td>\n      <td>86</td>\n      <td>0.0</td>\n      <td>33.0</td>\n      <td>1</td>\n      <td>0</td>\n    </tr>\n    <tr>\n      <th>3</th>\n      <td>4608</td>\n      <td>1</td>\n      <td>Vitoria</td>\n      <td>Amarelo</td>\n      <td>Mansur</td>\n      <td>NaN</td>\n      <td>Zagueiro</td>\n      <td>10</td>\n      <td>0.0</td>\n      <td>33.0</td>\n      <td>1</td>\n      <td>0</td>\n    </tr>\n    <tr>\n      <th>4</th>\n      <td>4607</td>\n      <td>1</td>\n      <td>Figueirense</td>\n      <td>Amarelo</td>\n      <td>Thiago Heleno</td>\n      <td>4.0</td>\n      <td>Zagueiro</td>\n      <td>44</td>\n      <td>0.0</td>\n      <td>16.0</td>\n      <td>1</td>\n      <td>0</td>\n    </tr>\n    <tr>\n      <th>...</th>\n      <td>...</td>\n      <td>...</td>\n      <td>...</td>\n      <td>...</td>\n      <td>...</td>\n      <td>...</td>\n      <td>...</td>\n      <td>...</td>\n      <td>...</td>\n      <td>...</td>\n      <td>...</td>\n      <td>...</td>\n    </tr>\n    <tr>\n      <th>16734</th>\n      <td>8023</td>\n      <td>38</td>\n      <td>Atletico-MG</td>\n      <td>Amarelo</td>\n      <td>Jemerson de Jesus Nascimento</td>\n      <td>34.0</td>\n      <td>Zagueiro</td>\n      <td>45+2</td>\n      <td>0.0</td>\n      <td>3.0</td>\n      <td>1</td>\n      <td>0</td>\n    </tr>\n    <tr>\n      <th>16735</th>\n      <td>8024</td>\n      <td>38</td>\n      <td>Internacional</td>\n      <td>Amarelo</td>\n      <td>Lucas Ramos</td>\n      <td>37.0</td>\n      <td>Meio-campo</td>\n      <td>80</td>\n      <td>0.0</td>\n      <td>22.0</td>\n      <td>1</td>\n      <td>0</td>\n    </tr>\n    <tr>\n      <th>16736</th>\n      <td>8024</td>\n      <td>38</td>\n      <td>Palmeiras</td>\n      <td>Amarelo</td>\n      <td>José Manuel Alberto López</td>\n      <td>18.0</td>\n      <td>Meio-campo</td>\n      <td>88</td>\n      <td>0.0</td>\n      <td>25.0</td>\n      <td>1</td>\n      <td>0</td>\n    </tr>\n    <tr>\n      <th>16737</th>\n      <td>8024</td>\n      <td>38</td>\n      <td>Palmeiras</td>\n      <td>Amarelo</td>\n      <td>Eduard Atuesta</td>\n      <td>20.0</td>\n      <td>Meio-campo</td>\n      <td>23</td>\n      <td>0.0</td>\n      <td>25.0</td>\n      <td>1</td>\n      <td>0</td>\n    </tr>\n    <tr>\n      <th>16738</th>\n      <td>8025</td>\n      <td>38</td>\n      <td>Goias</td>\n      <td>Amarelo</td>\n      <td>Magno Jose da Silva</td>\n      <td>2.0</td>\n      <td>Zagueiro</td>\n      <td>40</td>\n      <td>0.0</td>\n      <td>20.0</td>\n      <td>1</td>\n      <td>0</td>\n    </tr>\n  </tbody>\n</table>\n<p>16739 rows × 12 columns</p>\n</div>",
            "text/plain": "       partida_id  rodata          clube   cartao  \\\n0            4607       1    Figueirense  Amarelo   \n1            4608       1  Internacional  Amarelo   \n2            4608       1        Vitoria  Amarelo   \n3            4608       1        Vitoria  Amarelo   \n4            4607       1    Figueirense  Amarelo   \n...           ...     ...            ...      ...   \n16734        8023      38    Atletico-MG  Amarelo   \n16735        8024      38  Internacional  Amarelo   \n16736        8024      38      Palmeiras  Amarelo   \n16737        8024      38      Palmeiras  Amarelo   \n16738        8025      38          Goias  Amarelo   \n\n                             atleta  num_camisa     posicao minuto  \\\n0            Paulo Roberto da Silva        28.0         NaN     66   \n1               Andrés D'Alessandro        10.0  Meio-campo     72   \n2        Marcelo Machado dos Santos        29.0         NaN     86   \n3                            Mansur         NaN    Zagueiro     10   \n4                     Thiago Heleno         4.0    Zagueiro     44   \n...                             ...         ...         ...    ...   \n16734  Jemerson de Jesus Nascimento        34.0    Zagueiro   45+2   \n16735                   Lucas Ramos        37.0  Meio-campo     80   \n16736     José Manuel Alberto López        18.0  Meio-campo     88   \n16737                Eduard Atuesta        20.0  Meio-campo     23   \n16738           Magno Jose da Silva         2.0    Zagueiro     40   \n\n       cartao_numerico  clube_numerico  cartao_Amarelo  cartao_Vermelho  \n0                  0.0            16.0               1                0  \n1                  0.0            22.0               1                0  \n2                  0.0            33.0               1                0  \n3                  0.0            33.0               1                0  \n4                  0.0            16.0               1                0  \n...                ...             ...             ...              ...  \n16734              0.0             3.0               1                0  \n16735              0.0            22.0               1                0  \n16736              0.0            25.0               1                0  \n16737              0.0            25.0               1                0  \n16738              0.0            20.0               1                0  \n\n[16739 rows x 12 columns]"
          },
          "metadata": {}
        }
      ],
      "execution_count": 39,
      "metadata": {}
    },
    {
      "cell_type": "code",
      "source": [
        "campeonato_final[['cartao','cartao_Amarelo','cartao_Vermelho']].head(5)"
      ],
      "outputs": [
        {
          "output_type": "execute_result",
          "execution_count": 40,
          "data": {
            "text/html": "<div>\n<style scoped>\n    .dataframe tbody tr th:only-of-type {\n        vertical-align: middle;\n    }\n\n    .dataframe tbody tr th {\n        vertical-align: top;\n    }\n\n    .dataframe thead th {\n        text-align: right;\n    }\n</style>\n<table border=\"1\" class=\"dataframe\">\n  <thead>\n    <tr style=\"text-align: right;\">\n      <th></th>\n      <th>cartao</th>\n      <th>cartao_Amarelo</th>\n      <th>cartao_Vermelho</th>\n    </tr>\n  </thead>\n  <tbody>\n    <tr>\n      <th>0</th>\n      <td>Amarelo</td>\n      <td>1</td>\n      <td>0</td>\n    </tr>\n    <tr>\n      <th>1</th>\n      <td>Amarelo</td>\n      <td>1</td>\n      <td>0</td>\n    </tr>\n    <tr>\n      <th>2</th>\n      <td>Amarelo</td>\n      <td>1</td>\n      <td>0</td>\n    </tr>\n    <tr>\n      <th>3</th>\n      <td>Amarelo</td>\n      <td>1</td>\n      <td>0</td>\n    </tr>\n    <tr>\n      <th>4</th>\n      <td>Amarelo</td>\n      <td>1</td>\n      <td>0</td>\n    </tr>\n  </tbody>\n</table>\n</div>",
            "text/plain": "    cartao  cartao_Amarelo  cartao_Vermelho\n0  Amarelo               1                0\n1  Amarelo               1                0\n2  Amarelo               1                0\n3  Amarelo               1                0\n4  Amarelo               1                0"
          },
          "metadata": {}
        }
      ],
      "execution_count": 40,
      "metadata": {}
    },
    {
      "cell_type": "code",
      "source": [
        "one_hot_encoder = OneHotEncoder()\n",
        "one_hot_encoder = one_hot_encoder.fit(campeonate_cartoes[[\"cartao\"]])\n",
        "campeonate_cartoes_categorias = one_hot_encoder.transform(campeonate_cartoes[[\"cartao\"]])\n",
        "campeonate_cartoes_categorias"
      ],
      "outputs": [],
      "execution_count": null,
      "metadata": {}
    },
    {
      "cell_type": "code",
      "source": [
        "type(campeonate_cartoes_categorias)"
      ],
      "outputs": [],
      "execution_count": null,
      "metadata": {}
    },
    {
      "cell_type": "code",
      "source": [
        "campeonate_cartoes_categorias_dataframe = pd.DataFrame(campeonate_cartoes_categorias.toarray())\n",
        "campeonate_cartoes_categorias_dataframe = campeonate_cartoes_categorias_dataframe.rename(columns={0: \"cartao_Amarelo\", 1: \"cartao_Vermelho\"})\n",
        "campeonate_cartoes_categorias_dataframe"
      ],
      "outputs": [],
      "execution_count": null,
      "metadata": {}
    },
    {
      "cell_type": "code",
      "source": [
        "# Aplicação na variável TIME\n",
        "# Note que quanto mais CATEGORIAS, MAIOR SERÁ a criação de novas colunas.\n",
        "campeonate_cartoes_clubes = pd.get_dummies(campeonate_cartoes[[\"clube\"]])\n",
        "campeonate_cartoes_clubes"
      ],
      "outputs": [],
      "execution_count": null,
      "metadata": {}
    }
  ],
  "metadata": {
    "colab": {
      "provenance": []
    },
    "kernel_info": {
      "name": "python38-azureml"
    },
    "kernelspec": {
      "name": "python38-azureml",
      "language": "python",
      "display_name": "Python 3.8 - AzureML"
    },
    "language_info": {
      "name": "python",
      "version": "3.8.5",
      "mimetype": "text/x-python",
      "codemirror_mode": {
        "name": "ipython",
        "version": 3
      },
      "pygments_lexer": "ipython3",
      "nbconvert_exporter": "python",
      "file_extension": ".py"
    },
    "microsoft": {
      "ms_spell_check": {
        "ms_spell_check_language": "en"
      }
    },
    "nteract": {
      "version": "nteract-front-end@1.0.0"
    }
  },
  "nbformat": 4,
  "nbformat_minor": 4
}